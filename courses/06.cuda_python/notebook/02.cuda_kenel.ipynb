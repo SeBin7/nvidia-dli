{
 "cells": [
  {
   "cell_type": "code",
   "execution_count": null,
   "id": "0eddbaf5",
   "metadata": {},
   "outputs": [],
   "source": [
    "from numba import cuda\n",
    "\n",
    "@cuda.jit\n",
    "def add_kernel(x, y, out):\n",
    "    idx = cuda.grid(1)\n",
    "    out[idx] = x[idx] + y[idx]"
   ]
  },
  {
   "cell_type": "code",
   "execution_count": null,
   "id": "efaf265c",
   "metadata": {},
   "outputs": [],
   "source": [
    "import numpy as np\n",
    "\n",
    "n = 4096\n",
    "x = np.arange(n).astype(np.int32) \n",
    "y = np.ones_like(x)               \n",
    "\n",
    "d_x = cuda.to_device(x) \n",
    "d_y = cuda.to_device(y) \n",
    "d_out = cuda.device_array_like(d_x) \n",
    "\n",
    "threads_per_block = 128\n",
    "blocks_per_grid = 32"
   ]
  },
  {
   "cell_type": "code",
   "execution_count": null,
   "id": "81400c4b",
   "metadata": {},
   "outputs": [],
   "source": [
    "add_kernel[blocks_per_grid, threads_per_block](d_x, d_y, d_out)\n",
    "cuda.synchronize()\n",
    "print(d_out.copy_to_host()) # Should be [1...4096]"
   ]
  },
  {
   "cell_type": "code",
   "execution_count": null,
   "id": "48f0ef6e",
   "metadata": {},
   "outputs": [],
   "source": [
    "@cuda.jit\n",
    "def square_device(a, out):\n",
    "    idx = cuda.grid(1)\n",
    "    out[idx] = a[idx]**2"
   ]
  },
  {
   "cell_type": "code",
   "execution_count": null,
   "id": "f42f11b7",
   "metadata": {},
   "outputs": [],
   "source": [
    "n = 4096\n",
    "\n",
    "a = np.arange(n)\n",
    "out = a**2 "
   ]
  },
  {
   "cell_type": "code",
   "execution_count": null,
   "id": "6b8225d0",
   "metadata": {},
   "outputs": [],
   "source": [
    "d_a = cuda.to_device(a)                  \n",
    "d_out = cuda.device_array(shape=(n,), dtype=np.float32) \n",
    "\n",
    "blocks = 128\n",
    "threads = 32\n",
    "\n",
    "square_device[blocks, threads](d_a, d_out)\n",
    "#cuda.synchronize()\n",
    "#d_out = d_out.copy_to_host()"
   ]
  },
  {
   "cell_type": "code",
   "execution_count": null,
   "id": "4d417595",
   "metadata": {},
   "outputs": [],
   "source": [
    "from numpy import testing\n",
    "testing.assert_almost_equal(d_out, out)\n",
    "print()"
   ]
  },
  {
   "cell_type": "code",
   "execution_count": null,
   "id": "585a14a4",
   "metadata": {},
   "outputs": [],
   "source": []
  }
 ],
 "metadata": {
  "kernelspec": {
   "display_name": "base",
   "language": "python",
   "name": "python3"
  },
  "language_info": {
   "codemirror_mode": {
    "name": "ipython",
    "version": 3
   },
   "file_extension": ".py",
   "mimetype": "text/x-python",
   "name": "python",
   "nbconvert_exporter": "python",
   "pygments_lexer": "ipython3",
   "version": "3.13.5"
  }
 },
 "nbformat": 4,
 "nbformat_minor": 5
}
