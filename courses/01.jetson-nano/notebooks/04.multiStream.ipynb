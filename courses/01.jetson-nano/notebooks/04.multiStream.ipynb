{
 "cells": [
  {
   "cell_type": "code",
   "execution_count": null,
   "metadata": {},
   "outputs": [],
   "source": [
    "# Set some path locations for readability\n",
    "PYTHON_APPS = '/opt/nvidia/deepstream/deepstream/sources/deepstream_python_apps/apps'\n",
    "STREAMS = '/opt/nvidia/deepstream/deepstream/samples/streams'\n",
    "DLI_APPS = '/opt/nvidia/deepstream/deepstream/sources/deepstream_python_apps/dli_apps'\n",
    "MY_APPS = '/opt/nvidia/deepstream/deepstream/sources/deepstream_python_apps/my_apps'\n",
    "# Make sure common utilities are in my_apps\n",
    "!cp -r $PYTHON_APPS/common $MY_APPS/\n",
    "\n",
    "# List the contents of the sample app\n",
    "!ls $DLI_APPS/deepstream-test3-rtsp-out"
   ]
  },
  {
   "cell_type": "code",
   "execution_count": null,
   "metadata": {},
   "outputs": [],
   "source": [
    "# List the sample video streams available\n",
    "!ls $STREAMS"
   ]
  },
  {
   "cell_type": "code",
   "execution_count": null,
   "metadata": {},
   "outputs": [],
   "source": [
    "# Check usage of the test3 app with the help option\n",
    "!cd $DLI_APPS/deepstream-test3-rtsp-out \\\n",
    "    && python3 deepstream_test3_rtsp_out.py --help"
   ]
  },
  {
   "cell_type": "code",
   "execution_count": null,
   "metadata": {
    "scrolled": true
   },
   "outputs": [],
   "source": [
    "# Run the app with two input streams\n",
    "!cd $DLI_APPS/deepstream-test3-rtsp-out \\\n",
    "    && python3 deepstream_test3_rtsp_out.py -i \\\n",
    "        file://$STREAMS/sample_720p.h264 \\\n",
    "        file://$STREAMS/sample_720p.mp4"
   ]
  },
  {
   "cell_type": "code",
   "execution_count": null,
   "metadata": {},
   "outputs": [],
   "source": [
    "# Create a new app located at $MY_APPS/dst3-three-streams \n",
    "#      based on $DLI_APPS/deepstream-test3-rtsp-out\n",
    "!mkdir -p $MY_APPS/dst3-three-streams\n",
    "!cp -rfv $DLI_APPS/deepstream-test3-rtsp-out/* $MY_APPS/dst3-three-streams"
   ]
  },
  {
   "cell_type": "code",
   "execution_count": null,
   "metadata": {
    "scrolled": true
   },
   "outputs": [],
   "source": [
    "# Run the app with three input streams\n",
    "!cd $MY_APPS/dst3-three-streams \\\n",
    "    && python3 deepstream_test3_rtsp_out.py -i \\\n",
    "        file://$STREAMS/sample_720p.h264 \\\n",
    "        file://$STREAMS/sample_720p.mp4  \\\n",
    "        file://$STREAMS/sample_1080p_h265.mp4"
   ]
  }
 ],
 "metadata": {
  "kernelspec": {
   "display_name": "Python 3",
   "language": "python",
   "name": "python3"
  },
  "language_info": {
   "codemirror_mode": {
    "name": "ipython",
    "version": 3
   },
   "file_extension": ".py",
   "mimetype": "text/x-python",
   "name": "python",
   "nbconvert_exporter": "python",
   "pygments_lexer": "ipython3",
   "version": "3.6.9"
  }
 },
 "nbformat": 4,
 "nbformat_minor": 4
}
