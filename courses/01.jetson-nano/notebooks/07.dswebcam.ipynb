{
 "cells": [
  {
   "cell_type": "code",
   "execution_count": null,
   "metadata": {},
   "outputs": [],
   "source": [
    "# Set some path locations for readability\n",
    "PYTHON_APPS = '/opt/nvidia/deepstream/deepstream/sources/deepstream_python_apps/apps'\n",
    "STREAMS = '/opt/nvidia/deepstream/deepstream/samples/streams'\n",
    "DLI_APPS = '/opt/nvidia/deepstream/deepstream/sources/deepstream_python_apps/dli_apps'\n",
    "\n",
    "# List the contents of the sample app\n",
    "!ls $DLI_APPS/deepstream-test1-usbcam-rtsp-out"
   ]
  },
  {
   "cell_type": "code",
   "execution_count": null,
   "metadata": {},
   "outputs": [],
   "source": [
    "# Check usage of the test3 mp4 app with the help option\n",
    "!cd $DLI_APPS/deepstream-test1-usbcam-rtsp-out \\\n",
    "    && python3 deepstream_test_1_usb.py --help"
   ]
  },
  {
   "cell_type": "code",
   "execution_count": null,
   "metadata": {
    "scrolled": true
   },
   "outputs": [],
   "source": [
    "# Run the app\n",
    "!cd $DLI_APPS/deepstream-test1-usbcam-rtsp-out \\\n",
    "    && python3 deepstream_test_1_usb.py -i /dev/video0"
   ]
  },
  {
   "cell_type": "code",
   "execution_count": null,
   "metadata": {},
   "outputs": [],
   "source": [
    "!cd $DLI_APPS \\\n",
    "    && diff deepstream-test1-usbcam-rtsp-out/deepstream_test_1_usb.py \\\n",
    "            deepstream-test1-usbcam-yolo-rtsp-out/deepstream_test_1_usb.py"
   ]
  },
  {
   "cell_type": "code",
   "execution_count": null,
   "metadata": {
    "scrolled": true
   },
   "outputs": [],
   "source": [
    "# Run the app\n",
    "!cd $DLI_APPS/deepstream-test1-usbcam-yolo-rtsp-out \\\n",
    "    && python3 deepstream_test_1_usb.py -i /dev/video0"
   ]
  }
 ],
 "metadata": {
  "kernelspec": {
   "display_name": "Python 3",
   "language": "python",
   "name": "python3"
  },
  "language_info": {
   "codemirror_mode": {
    "name": "ipython",
    "version": 3
   },
   "file_extension": ".py",
   "mimetype": "text/x-python",
   "name": "python",
   "nbconvert_exporter": "python",
   "pygments_lexer": "ipython3",
   "version": "3.6.9"
  }
 },
 "nbformat": 4,
 "nbformat_minor": 4
}
