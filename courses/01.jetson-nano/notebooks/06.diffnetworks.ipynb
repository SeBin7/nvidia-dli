{
 "cells": [
  {
   "cell_type": "code",
   "execution_count": null,
   "metadata": {},
   "outputs": [],
   "source": [
    "# Set some path locations for readability\n",
    "YOLO_DETECTOR = '/opt/nvidia/deepstream/deepstream/sources/objectDetector_Yolo'\n",
    "STREAMS = '/opt/nvidia/deepstream/deepstream/samples/streams'\n",
    "DLI_APPS = '/opt/nvidia/deepstream/deepstream/sources/deepstream_python_apps/dli_apps'"
   ]
  },
  {
   "cell_type": "code",
   "execution_count": null,
   "metadata": {},
   "outputs": [],
   "source": [
    "# Explore the contents objectDetector_Yolo\n",
    "# There are a number of configuration files to choose from\n",
    "!ls -l $YOLO_DETECTOR"
   ]
  },
  {
   "cell_type": "code",
   "execution_count": null,
   "metadata": {
    "scrolled": true
   },
   "outputs": [],
   "source": [
    "# Take a look at the 80 objects that YOLO can detect\n",
    "!cat $YOLO_DETECTOR/labels.txt"
   ]
  },
  {
   "cell_type": "code",
   "execution_count": null,
   "metadata": {},
   "outputs": [],
   "source": [
    "# View the differences between the original YOLO config file and the one we will use\n",
    "!diff $YOLO_DETECTOR/config_infer_primary_yoloV3_tiny.txt \\\n",
    "    $DLI_APPS/deepstream-test3-mp4-out-yolo/config_infer_primary_yoloV3_tiny.txt"
   ]
  },
  {
   "cell_type": "code",
   "execution_count": null,
   "metadata": {},
   "outputs": [],
   "source": [
    "# Download YOLO weights from the Internet\n",
    "!cd $YOLO_DETECTOR && ./prebuild.sh"
   ]
  },
  {
   "cell_type": "code",
   "execution_count": null,
   "metadata": {},
   "outputs": [],
   "source": [
    "!cat /usr/local/cuda/version.txt"
   ]
  },
  {
   "cell_type": "code",
   "execution_count": null,
   "metadata": {
    "scrolled": true
   },
   "outputs": [],
   "source": [
    "# TODO Verify the CUDA_VER value\n",
    "# Build YOLO engine\n",
    "CUDA_VER = 10.2\n",
    "!cd $YOLO_DETECTOR/nvdsinfer_custom_impl_Yolo/ \\\n",
    "    && CUDA_VER=$CUDA_VER make"
   ]
  },
  {
   "cell_type": "code",
   "execution_count": null,
   "metadata": {},
   "outputs": [],
   "source": [
    "# Check usage of the test3 mp4 app with the help option\n",
    "!cd $DLI_APPS/deepstream-test3-mp4-out-yolo \\\n",
    "    && python3 deepstream_test3_mp4_out.py --help"
   ]
  },
  {
   "cell_type": "code",
   "execution_count": null,
   "metadata": {
    "scrolled": true
   },
   "outputs": [],
   "source": [
    "# Run the app with YOLO\n",
    "OUTPUT_PATH_EX1 = '/dli/task/nb6_out.mp4'\n",
    "!cd $DLI_APPS/deepstream-test3-mp4-out-yolo \\\n",
    "    && python3 deepstream_test3_mp4_out.py -o $OUTPUT_PATH_EX1 -i \\\n",
    "        file://$STREAMS/sample_720p.h264"
   ]
  },
  {
   "cell_type": "code",
   "execution_count": null,
   "metadata": {},
   "outputs": [],
   "source": [
    "# Watch the saved video\n",
    "import os\n",
    "from IPython.display import Video\n",
    "\n",
    "video_path = os.path.relpath(OUTPUT_PATH_EX1)\n",
    "Video(video_path, width = 600, height = 300)"
   ]
  },
  {
   "cell_type": "code",
   "execution_count": null,
   "metadata": {
    "scrolled": true
   },
   "outputs": [],
   "source": [
    "# TODO Insert the name of your uploaded video to replace \"my_video_in.mp4\"\n",
    "INPUT_PATH = '/dli/task/my_video_in.mp4'\n",
    "# Run the app with YOLO\n",
    "OUTPUT_PATH_EX2 = '/dli/task/nb6_my_video_out.mp4'\n",
    "!cd $DLI_APPS/deepstream-test3-mp4-out-yolo \\\n",
    "    && python3 deepstream_test3_mp4_out.py -o $OUTPUT_PATH_EX2 -i \\\n",
    "        file://$INPUT_PATH"
   ]
  },
  {
   "cell_type": "code",
   "execution_count": null,
   "metadata": {},
   "outputs": [],
   "source": [
    "# Watch the saved video\n",
    "import os\n",
    "from IPython.display import Video\n",
    "\n",
    "video_path = os.path.relpath(OUTPUT_PATH_EX2)\n",
    "Video(video_path, width = 600, height = 300)"
   ]
  }
 ],
 "metadata": {
  "kernelspec": {
   "display_name": "Python 3",
   "language": "python",
   "name": "python3"
  },
  "language_info": {
   "codemirror_mode": {
    "name": "ipython",
    "version": 3
   },
   "file_extension": ".py",
   "mimetype": "text/x-python",
   "name": "python",
   "nbconvert_exporter": "python",
   "pygments_lexer": "ipython3",
   "version": "3.6.9"
  }
 },
 "nbformat": 4,
 "nbformat_minor": 4
}
