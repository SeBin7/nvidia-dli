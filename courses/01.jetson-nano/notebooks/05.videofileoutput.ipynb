{
 "cells": [
  {
   "cell_type": "code",
   "execution_count": null,
   "metadata": {},
   "outputs": [],
   "source": [
    "# Set some path locations for readability\n",
    "PYTHON_APPS = '/opt/nvidia/deepstream/deepstream/sources/deepstream_python_apps/apps'\n",
    "STREAMS = '/opt/nvidia/deepstream/deepstream/samples/streams'\n",
    "DLI_APPS = '/opt/nvidia/deepstream/deepstream/sources/deepstream_python_apps/dli_apps'\n",
    "MY_APPS = '/opt/nvidia/deepstream/deepstream/sources/deepstream_python_apps/my_apps'\n",
    "# Make sure common utilities are in my_apps\n",
    "!cp -r $PYTHON_APPS/common $MY_APPS/\n",
    "\n",
    "# List the contents of the sample app\n",
    "!ls $DLI_APPS/deepstream-test3-mp4-out"
   ]
  },
  {
   "cell_type": "code",
   "execution_count": null,
   "metadata": {},
   "outputs": [],
   "source": [
    "# Check usage of the test3 mp4 app with the help option\n",
    "!cd $DLI_APPS/deepstream-test3-mp4-out \\\n",
    "    && python3 deepstream_test3_mp4_out.py --help"
   ]
  },
  {
   "cell_type": "code",
   "execution_count": null,
   "metadata": {
    "scrolled": true
   },
   "outputs": [],
   "source": [
    "# Run the app with two input streams\n",
    "OUTPUT_PATH_EX1 = '/dli/task/nb5_out.mp4'\n",
    "!cd $DLI_APPS/deepstream-test3-mp4-out \\\n",
    "    && python3 deepstream_test3_mp4_out.py -o $OUTPUT_PATH_EX1 -i \\\n",
    "        file://$STREAMS/sample_720p.h264 \\\n",
    "        file://$STREAMS/sample_720p.mp4"
   ]
  },
  {
   "cell_type": "code",
   "execution_count": null,
   "metadata": {},
   "outputs": [],
   "source": [
    "# Watch the saved video\n",
    "import os\n",
    "from IPython.display import Video\n",
    "\n",
    "video_path = os.path.relpath(OUTPUT_PATH_EX1)\n",
    "Video(video_path, width = 600, height = 300)"
   ]
  },
  {
   "cell_type": "code",
   "execution_count": null,
   "metadata": {},
   "outputs": [],
   "source": [
    "# Create a new app located at $MY_APPS/dst1-mp4-out \n",
    "#      based on $PYTHON_APPS/deepstream-test1-rtsp-out\n",
    "!mkdir -p $MY_APPS/dst1-mp4-out\n",
    "!cp -rfv $PYTHON_APPS/deepstream-test1-rtsp-out/* $MY_APPS/dst1-mp4-out\n",
    "# Rename your Python file for clarity\n",
    "!mv $MY_APPS/dst1-mp4-out/deepstream_test1_rtsp_out.py \\\n",
    "    $MY_APPS/dst1-mp4-out/deepstream_test1_mp4_out.py"
   ]
  },
  {
   "cell_type": "code",
   "execution_count": null,
   "metadata": {},
   "outputs": [],
   "source": [
    "# Check usage of your new test1 mp4 app with the help option\n",
    "!cd $MY_APPS/dst1-mp4-out \\\n",
    "    && python3 deepstream_test1_mp4_out.py --help"
   ]
  },
  {
   "cell_type": "code",
   "execution_count": null,
   "metadata": {
    "scrolled": true
   },
   "outputs": [],
   "source": [
    "# Run the app\n",
    "OUTPUT_PATH_EX2 = '/dli/task/nb5_test1_out.mp4'\n",
    "!cd $MY_APPS/dst1-mp4-out \\\n",
    "    && python3 deepstream_test1_mp4_out.py \\\n",
    "        -o $OUTPUT_PATH_EX2 \\\n",
    "        -i $STREAMS/sample_720p.h264"
   ]
  },
  {
   "cell_type": "code",
   "execution_count": null,
   "metadata": {},
   "outputs": [],
   "source": [
    "# Watch the saved video\n",
    "import os\n",
    "from IPython.display import Video\n",
    "\n",
    "video_path = os.path.relpath(OUTPUT_PATH_EX2)\n",
    "Video(video_path, width = 600, height = 300)"
   ]
  }
 ],
 "metadata": {
  "kernelspec": {
   "display_name": "Python 3",
   "language": "python",
   "name": "python3"
  },
  "language_info": {
   "codemirror_mode": {
    "name": "ipython",
    "version": 3
   },
   "file_extension": ".py",
   "mimetype": "text/x-python",
   "name": "python",
   "nbconvert_exporter": "python",
   "pygments_lexer": "ipython3",
   "version": "3.6.9"
  }
 },
 "nbformat": 4,
 "nbformat_minor": 4
}
