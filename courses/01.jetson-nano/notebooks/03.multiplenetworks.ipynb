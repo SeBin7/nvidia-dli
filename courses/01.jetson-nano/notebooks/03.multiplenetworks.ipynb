{
 "cells": [
  {
   "cell_type": "code",
   "execution_count": null,
   "metadata": {},
   "outputs": [],
   "source": [
    "# Set some path locations for readability\n",
    "PYTHON_APPS = '/opt/nvidia/deepstream/deepstream/sources/deepstream_python_apps/apps'\n",
    "STREAMS = '/opt/nvidia/deepstream/deepstream/samples/streams'\n",
    "DLI_APPS = '/opt/nvidia/deepstream/deepstream/sources/deepstream_python_apps/dli_apps'\n",
    "MY_APPS = '/opt/nvidia/deepstream/deepstream/sources/deepstream_python_apps/my_apps'\n",
    "# Make sure common utilities are in my_apps\n",
    "!cp -r $PYTHON_APPS/common $MY_APPS/\n",
    "\n",
    "# List the contents of the sample app\n",
    "!ls $DLI_APPS/deepstream-test2-rtsp-out-1SGIE"
   ]
  },
  {
   "cell_type": "code",
   "execution_count": null,
   "metadata": {},
   "outputs": [],
   "source": [
    "# Check usage of the test2 app with the help option\n",
    "!cd $DLI_APPS/deepstream-test2-rtsp-out-1SGIE \\\n",
    "    && python3 deepstream_test2_rtsp_out.py --help"
   ]
  },
  {
   "cell_type": "code",
   "execution_count": null,
   "metadata": {
    "scrolled": true
   },
   "outputs": [],
   "source": [
    "# Run the app\n",
    "!cd $DLI_APPS/deepstream-test2-rtsp-out-1SGIE \\\n",
    "    && python3 deepstream_test2_rtsp_out.py -i $STREAMS/sample_720p.h264"
   ]
  },
  {
   "cell_type": "code",
   "execution_count": null,
   "metadata": {},
   "outputs": [],
   "source": [
    "# Create a new app located at $MY_APPS/dst2-two-sgie \n",
    "#      based on $DLI_APPS/deepstream-test2-rtsp-out-1SGIE\n",
    "!mkdir -p $MY_APPS/dst2-two-sgie\n",
    "!cp -rfv $DLI_APPS/deepstream-test2-rtsp-out-1SGIE/* $MY_APPS/dst2-two-sgie"
   ]
  },
  {
   "cell_type": "code",
   "execution_count": null,
   "metadata": {},
   "outputs": [],
   "source": [
    "# Create a new configuration file for SGIE2 \n",
    "#      based on the one already existing for SGIE1.\n",
    "!cp -rfv $DLI_APPS/deepstream-test2-rtsp-out-1SGIE/dstest2_sgie1_config.txt \\\n",
    "        $MY_APPS/dst2-two-sgie/dstest2_sgie2_config.txt"
   ]
  },
  {
   "cell_type": "code",
   "execution_count": null,
   "metadata": {
    "scrolled": true
   },
   "outputs": [],
   "source": [
    "# Run the app\n",
    "!cd $MY_APPS/dst2-two-sgie \\\n",
    "    && python3 deepstream_test2_rtsp_out.py -i $STREAMS/sample_720p.h264"
   ]
  }
 ],
 "metadata": {
  "kernelspec": {
   "display_name": "Python 3",
   "language": "python",
   "name": "python3"
  },
  "language_info": {
   "codemirror_mode": {
    "name": "ipython",
    "version": 3
   },
   "file_extension": ".py",
   "mimetype": "text/x-python",
   "name": "python",
   "nbconvert_exporter": "python",
   "pygments_lexer": "ipython3",
   "version": "3.6.9"
  }
 },
 "nbformat": 4,
 "nbformat_minor": 4
}
