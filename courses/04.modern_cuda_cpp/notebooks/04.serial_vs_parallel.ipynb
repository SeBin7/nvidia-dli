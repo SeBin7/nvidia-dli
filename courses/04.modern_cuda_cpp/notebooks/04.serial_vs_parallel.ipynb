{
 "cells": [
  {
   "cell_type": "code",
   "execution_count": null,
   "id": "ef474b4a",
   "metadata": {
    "vscode": {
     "languageId": "plaintext"
    }
   },
   "outputs": [],
   "source": [
    "%%writefile Sources/naive-segmented-sum.cu\n",
    "#include <cstdio>\n",
    "#include <chrono>\n",
    "\n",
    "#include <thrust/tabulate.h>\n",
    "#include <thrust/execution_policy.h>\n",
    "#include <thrust/universal_vector.h>\n",
    "\n",
    "thrust::universal_vector<float> row_temperataures(\n",
    "    int height, int width,\n",
    "    const thrust::universal_vector<float>& temp) \n",
    "{\n",
    "    // allocate vector to store sums\n",
    "    thrust::universal_vector<float> sums(height);\n",
    "\n",
    "    // take raw pointer to `temp`\n",
    "    const float *d_temp_ptr = thrust::raw_pointer_cast(temp.data());\n",
    "\n",
    "    // compute row sum\n",
    "    thrust::tabulate(thrust::device, sums.begin(), sums.end(), [=]__host__ __device__(int row_id) {\n",
    "        float sum = 0;\n",
    "        for (int i = 0; i < width; i++) {\n",
    "            sum += d_temp_ptr[row_id * width + i];\n",
    "        }\n",
    "        return sum; \n",
    "    });\n",
    "\n",
    "    return sums;\n",
    "}\n",
    "\n",
    "thrust::universal_vector<float> init(int height, int width) {\n",
    "  const float low = 15.0;\n",
    "  const float high = 90.0;\n",
    "  thrust::universal_vector<float> temp(height * width, low);\n",
    "  thrust::fill(thrust::device, temp.begin(), temp.begin() + width, high);\n",
    "  return temp;\n",
    "}\n",
    "\n",
    "int main() \n",
    "{\n",
    "    int height = 16;\n",
    "    int width = 16777216;\n",
    "    thrust::universal_vector<float> temp = init(height, width);\n",
    "\n",
    "    auto begin = std::chrono::high_resolution_clock::now();\n",
    "    thrust::universal_vector<float> sums = row_temperataures(height, width, temp);\n",
    "    auto end = std::chrono::high_resolution_clock::now();\n",
    "    const double seconds = std::chrono::duration<double>(end - begin).count();\n",
    "    const double gigabytes = static_cast<double>(temp.size() * sizeof(float)) / 1024 / 1024 / 1024;\n",
    "    const double throughput = gigabytes / seconds;\n",
    "\n",
    "    std::printf(\"computed in %g s\\n\", seconds);\n",
    "    std::printf(\"achieved throughput: %g GB/s\\n\", throughput);\n",
    "}"
   ]
  },
  {
   "cell_type": "code",
   "execution_count": null,
   "id": "001e1ab1",
   "metadata": {
    "vscode": {
     "languageId": "plaintext"
    }
   },
   "outputs": [],
   "source": [
    "!nvcc --extended-lambda -o /tmp/a.out Sources/naive-segmented-sum.cu # build executable\n",
    "!/tmp/a.out # run executable"
   ]
  },
  {
   "cell_type": "code",
   "execution_count": null,
   "id": "062e10e1",
   "metadata": {
    "vscode": {
     "languageId": "plaintext"
    }
   },
   "outputs": [],
   "source": [
    "%%writefile Sources/reduce-by-key.cu\n",
    "#include \"dli.h\"\n",
    "\n",
    "thrust::universal_vector<float> row_temperatures(\n",
    "    int height, int width,\n",
    "    thrust::universal_vector<int>& row_ids,\n",
    "    thrust::universal_vector<float>& temp)\n",
    "{\n",
    "    thrust::universal_vector<float> sums(height);\n",
    "    thrust::reduce_by_key(\n",
    "        thrust::device, \n",
    "        row_ids.begin(), row_ids.end(),   // input keys \n",
    "        temp.begin(),                     // input values\n",
    "        thrust::make_discard_iterator(),  // output keys\n",
    "        sums.begin());                    // output values\n",
    "\n",
    "    return sums;\n",
    "}"
   ]
  },
  {
   "cell_type": "code",
   "execution_count": null,
   "id": "5900b7f5",
   "metadata": {
    "vscode": {
     "languageId": "plaintext"
    }
   },
   "outputs": [],
   "source": [
    "!nvcc --extended-lambda -o /tmp/a.out Sources/reduce-by-key.cu # build executable\n",
    "!/tmp/a.out # run executable"
   ]
  }
 ],
 "metadata": {
  "language_info": {
   "name": "python"
  }
 },
 "nbformat": 4,
 "nbformat_minor": 5
}
