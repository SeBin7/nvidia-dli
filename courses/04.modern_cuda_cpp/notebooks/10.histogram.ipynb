{
 "cells": [
  {
   "cell_type": "code",
   "execution_count": null,
   "id": "e0f58535",
   "metadata": {
    "vscode": {
     "languageId": "plaintext"
    }
   },
   "outputs": [],
   "source": [
    "%%writefile Sources/histogram-bug.cu\n",
    "#include \"dli.cuh\"\n",
    "\n",
    "constexpr float bin_width = 10;\n",
    "\n",
    "__global__ void histogram_kernel(cuda::std::span<float> temperatures, \n",
    "                                 cuda::std::span<int> histogram)\n",
    "{\n",
    "  int cell = blockIdx.x * blockDim.x + threadIdx.x;\n",
    "  int bin = static_cast<int>(temperatures[cell] / bin_width);\n",
    "  int old_count = histogram[bin];\n",
    "  int new_count = old_count + 1;\n",
    "  histogram[bin] = new_count;\n",
    "}\n",
    "\n",
    "void histogram(cuda::std::span<float> temperatures, \n",
    "               cuda::std::span<int> histogram, \n",
    "               cudaStream_t stream)\n",
    "{\n",
    "  int block_size = 256;\n",
    "  int grid_size = cuda::ceil_div(temperatures.size(), block_size);\n",
    "  histogram_kernel<<<grid_size, block_size, 0, stream>>>(\n",
    "    temperatures, histogram);\n",
    "}"
   ]
  },
  {
   "cell_type": "code",
   "execution_count": null,
   "id": "ed1ca4bc",
   "metadata": {
    "vscode": {
     "languageId": "plaintext"
    }
   },
   "outputs": [],
   "source": [
    "import Sources.dli\n",
    "Sources.dli.run(\"Sources/histogram-bug.cu\")"
   ]
  },
  {
   "cell_type": "code",
   "execution_count": null,
   "id": "0bcff447",
   "metadata": {
    "vscode": {
     "languageId": "plaintext"
    }
   },
   "outputs": [],
   "source": [
    "%%writefile Sources/atomic.cu\n",
    "#include <cuda/std/span>\n",
    "#include <cuda/std/atomic>\n",
    "#include <thrust/device_vector.h>\n",
    "#include <thrust/host_vector.h>\n",
    "\n",
    "__global__ void kernel(cuda::std::span<int> count)\n",
    "{\n",
    "    // Wrap data in atomic_ref\n",
    "    cuda::std::atomic_ref<int> ref(count[0]);\n",
    "\n",
    "    // Atomically increment the underlying value\n",
    "    ref.fetch_add(1);\n",
    "}\n",
    "\n",
    "int main()\n",
    "{\n",
    "    thrust::device_vector<int> count(1);\n",
    "\n",
    "    int threads_in_block = 256;\n",
    "    int blocks_in_grid = 42;\n",
    "\n",
    "    kernel<<<blocks_in_grid, threads_in_block>>>(\n",
    "        cuda::std::span<int>{thrust::raw_pointer_cast(count.data()), 1});\n",
    "\n",
    "    cudaDeviceSynchronize();\n",
    "\n",
    "    thrust::host_vector<int> count_host = count;\n",
    "    std::cout << \"expected: \" << threads_in_block * blocks_in_grid << std::endl;\n",
    "    std::cout << \"observed: \" << count_host[0] << std::endl;\n",
    "}"
   ]
  },
  {
   "cell_type": "code",
   "execution_count": null,
   "id": "340687cc",
   "metadata": {
    "vscode": {
     "languageId": "plaintext"
    }
   },
   "outputs": [],
   "source": [
    "!nvcc -arch=native Sources/atomic.cu -o /tmp/a.out -run"
   ]
  }
 ],
 "metadata": {
  "language_info": {
   "name": "python"
  }
 },
 "nbformat": 4,
 "nbformat_minor": 5
}
