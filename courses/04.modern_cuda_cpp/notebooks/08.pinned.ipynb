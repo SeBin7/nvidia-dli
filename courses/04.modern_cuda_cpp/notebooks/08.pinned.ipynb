{
 "cells": [
  {
   "cell_type": "code",
   "execution_count": null,
   "id": "bdb1cd88",
   "metadata": {
    "vscode": {
     "languageId": "plaintext"
    }
   },
   "outputs": [],
   "source": [
    "%%writefile Sources/copy-overlap.cu\n",
    "#include \"dli.h\"\n",
    "\n",
    "int main() {\n",
    "  int height = 2048;\n",
    "  int width = 8192;\n",
    "\n",
    "  cudaStream_t compute_stream;\n",
    "  cudaStreamCreate(&compute_stream);\n",
    "\n",
    "  cudaStream_t copy_stream;\n",
    "  cudaStreamCreate(&copy_stream);\n",
    "\n",
    "  thrust::device_vector<float> d_prev = dli::init(height, width);\n",
    "  thrust::device_vector<float> d_next(height * width);\n",
    "  thrust::device_vector<float> d_buffer(height * width);\n",
    "\n",
    "  thrust::universal_host_pinned_vector<float> h_prev(height * width);\n",
    "\n",
    "  const int compute_steps = 750;\n",
    "  const int write_steps = 3;\n",
    "  for (int write_step = 0; write_step < write_steps; write_step++) {\n",
    "    cudaMemcpy(thrust::raw_pointer_cast(d_buffer.data()),\n",
    "               thrust::raw_pointer_cast(d_prev.data()),\n",
    "               height * width * sizeof(float), cudaMemcpyDeviceToDevice);\n",
    "    cudaMemcpyAsync(thrust::raw_pointer_cast(h_prev.data()),\n",
    "                    thrust::raw_pointer_cast(d_buffer.data()),\n",
    "                    height * width * sizeof(float), cudaMemcpyDeviceToHost,\n",
    "                    copy_stream);\n",
    "\n",
    "    for (int compute_step = 0; compute_step < compute_steps; compute_step++) {\n",
    "      dli::simulate(width, height, d_prev, d_next, compute_stream);\n",
    "      d_prev.swap(d_next);\n",
    "    }\n",
    "\n",
    "    cudaStreamSynchronize(copy_stream);\n",
    "    dli::store(write_step, height, width, h_prev);\n",
    "\n",
    "    cudaStreamSynchronize(compute_stream);\n",
    "  }\n",
    "\n",
    "  cudaStreamDestroy(compute_stream);\n",
    "  cudaStreamDestroy(copy_stream);\n",
    "}"
   ]
  }
 ],
 "metadata": {
  "language_info": {
   "name": "python"
  }
 },
 "nbformat": 4,
 "nbformat_minor": 5
}
