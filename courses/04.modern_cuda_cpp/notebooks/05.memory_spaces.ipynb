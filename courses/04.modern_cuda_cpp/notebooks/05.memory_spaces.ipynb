{
 "cells": [
  {
   "cell_type": "code",
   "execution_count": null,
   "id": "66bdd037",
   "metadata": {
    "vscode": {
     "languageId": "plaintext"
    }
   },
   "outputs": [],
   "source": [
    "%%writefile Sources/heat-2D.cu\n",
    "#include \"dli.h\"\n",
    "\n",
    "int main()\n",
    "{\n",
    "  int height = 4096;\n",
    "  int width  = 4096;\n",
    "\n",
    "  thrust::universal_vector<float> prev = dli::init(height, width);\n",
    "  thrust::universal_vector<float> next(height * width);\n",
    "\n",
    "  for (int write_step = 0; write_step < 3; write_step++) {\n",
    "    std::printf(\"   write step %d\\n\", write_step);\n",
    "    dli::store(write_step, height, width, prev);\n",
    "    \n",
    "    for (int compute_step = 0; compute_step < 3; compute_step++) {\n",
    "      auto begin = std::chrono::high_resolution_clock::now();\n",
    "      dli::simulate(height, width, prev, next);\n",
    "      auto end = std::chrono::high_resolution_clock::now();\n",
    "      auto seconds = std::chrono::duration<double>(end - begin).count();\n",
    "      std::printf(\"computed step %d in %g s\\n\", compute_step, seconds);\n",
    "      prev.swap(next);\n",
    "    }\n",
    "  }\n",
    "}"
   ]
  },
  {
   "cell_type": "code",
   "execution_count": null,
   "id": "d633df3c",
   "metadata": {
    "vscode": {
     "languageId": "plaintext"
    }
   },
   "outputs": [],
   "source": [
    "!nvcc --extended-lambda -o /tmp/a.out Sources/heat-2D.cu # build executable\n",
    "!/tmp/a.out # run executable"
   ]
  },
  {
   "cell_type": "code",
   "execution_count": null,
   "id": "f7b338b5",
   "metadata": {
    "vscode": {
     "languageId": "plaintext"
    }
   },
   "outputs": [],
   "source": [
    "   write step 0\n",
    "computed step 0 in 0.0258497 s\n",
    "computed step 1 in 0.000546186 s\n",
    "computed step 2 in 0.00053285 s\n",
    "   write step 1\n",
    "computed step 0 in 0.0259182 s\n",
    "computed step 1 in 0.000543439 s\n",
    "computed step 2 in 0.000533471 s\n",
    "   write step 2\n",
    "computed step 0 in 0.0259762 s\n",
    "computed step 1 in 0.000544832 s\n",
    "computed step 2 in 0.000532779 s"
   ]
  },
  {
   "cell_type": "code",
   "execution_count": null,
   "id": "dbd5085e",
   "metadata": {
    "vscode": {
     "languageId": "plaintext"
    }
   },
   "outputs": [],
   "source": [
    "%%writefile Sources/heat-2D-explicit-memory-spaces.cu\n",
    "#include \"dli.h\"\n",
    "\n",
    "int main()\n",
    "{\n",
    "  int height = 4096;\n",
    "  int width  = 4096;\n",
    "\n",
    "  thrust::device_vector<float> d_prev = dli::init(height, width);\n",
    "  thrust::device_vector<float> d_next(height * width);\n",
    "  thrust::host_vector<float> h_prev(height * width);\n",
    "\n",
    "  for (int write_step = 0; write_step < 3; write_step++) {\n",
    "    std::printf(\"   write step %d\\n\", write_step);\n",
    "    thrust::copy(d_prev.begin(), d_prev.end(), h_prev.begin());\n",
    "    dli::store(write_step, height, width, h_prev);\n",
    "\n",
    "    for (int compute_step = 0; compute_step < 3; compute_step++) {\n",
    "      auto begin = std::chrono::high_resolution_clock::now();\n",
    "      dli::simulate(height, width, d_prev, d_next);\n",
    "      auto end = std::chrono::high_resolution_clock::now();\n",
    "      auto seconds = std::chrono::duration<double>(end - begin).count();\n",
    "      std::printf(\"computed step %d in %g s\\n\", compute_step, seconds);\n",
    "      d_prev.swap(d_next);\n",
    "   }\n",
    " }\n",
    "}"
   ]
  },
  {
   "cell_type": "code",
   "execution_count": null,
   "id": "4eda263b",
   "metadata": {
    "vscode": {
     "languageId": "plaintext"
    }
   },
   "outputs": [],
   "source": [
    "!nvcc --extended-lambda -o /tmp/a.out Sources/heat-2D-explicit-memory-spaces.cu # build executable\n",
    "!/tmp/a.out # run executable"
   ]
  },
  {
   "cell_type": "code",
   "execution_count": null,
   "id": "f0353e0b",
   "metadata": {
    "vscode": {
     "languageId": "plaintext"
    }
   },
   "outputs": [],
   "source": [
    "   write step 0\n",
    "computed step 0 in 0.000616766 s\n",
    "computed step 1 in 0.000551491 s\n",
    "computed step 2 in 0.000551901 s\n",
    "   write step 1\n",
    "computed step 0 in 0.000586607 s\n",
    "computed step 1 in 0.000552583 s\n",
    "computed step 2 in 0.000550168 s\n",
    "   write step 2\n",
    "computed step 0 in 0.000582329 s\n",
    "computed step 1 in 0.000550868 s\n",
    "computed step 2 in 0.000550558 s"
   ]
  }
 ],
 "metadata": {
  "language_info": {
   "name": "python"
  }
 },
 "nbformat": 4,
 "nbformat_minor": 5
}
