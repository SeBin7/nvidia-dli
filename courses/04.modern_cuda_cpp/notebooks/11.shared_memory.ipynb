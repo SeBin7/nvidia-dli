{
 "cells": [
  {
   "cell_type": "code",
   "execution_count": null,
   "id": "a5dcfb6a",
   "metadata": {
    "vscode": {
     "languageId": "plaintext"
    }
   },
   "outputs": [],
   "source": [
    "%%writefile Sources/simple-shmem.cu\n",
    "#include <cstdio>\n",
    "\n",
    "__global__ void kernel()\n",
    "{\n",
    "  __shared__ int shared[4];\n",
    "  shared[threadIdx.x] = threadIdx.x;\n",
    "  __syncthreads();\n",
    "\n",
    "  if (threadIdx.x == 0)\n",
    "  {\n",
    "    for (int i = 0; i < 4; i++) {\n",
    "      std::printf(\"shared[%d] = %d\\n\", i, shared[i]);\n",
    "    }\n",
    "  }\n",
    "}\n",
    "\n",
    "int main() {\n",
    "  kernel<<<1, 4>>>();\n",
    "  cudaDeviceSynchronize();\n",
    "  return 0;\n",
    "}"
   ]
  },
  {
   "cell_type": "code",
   "execution_count": null,
   "id": "eac03bc8",
   "metadata": {
    "vscode": {
     "languageId": "plaintext"
    }
   },
   "outputs": [],
   "source": [
    "!nvcc -o /tmp/a.out Sources/simple-shmem.cu && /tmp/a.out"
   ]
  },
  {
   "cell_type": "code",
   "execution_count": null,
   "id": "a991709b",
   "metadata": {
    "vscode": {
     "languageId": "plaintext"
    }
   },
   "outputs": [],
   "source": [
    "%%writefile Sources/shmem.cu\n",
    "#include \"dli.cuh\"\n",
    "\n",
    "__global__ void histogram_kernel(cuda::std::span<float> temperatures,\n",
    "                                 cuda::std::span<int> histogram) {\n",
    "  __shared__ int block_histogram[10];\n",
    "\n",
    "  if (threadIdx.x < 10) {\n",
    "    block_histogram[threadIdx.x] = 0;\n",
    "  }\n",
    "  __syncthreads();\n",
    "\n",
    "  int cell = blockIdx.x * blockDim.x + threadIdx.x;\n",
    "  int bin = static_cast<int>(temperatures[cell] / 10);\n",
    "\n",
    "  cuda::atomic_ref<int, cuda::thread_scope_block> block_ref(\n",
    "      block_histogram[bin]);\n",
    "  block_ref.fetch_add(1);\n",
    "  __syncthreads();\n",
    "\n",
    "  if (threadIdx.x < 10) {\n",
    "    cuda::atomic_ref<int, cuda::thread_scope_device> ref(\n",
    "        histogram[threadIdx.x]);\n",
    "    ref.fetch_add(block_histogram[threadIdx.x]);\n",
    "  }\n",
    "}\n",
    "\n",
    "void histogram(cuda::std::span<float> temperatures,\n",
    "               cuda::std::span<int> block_histograms,\n",
    "               cuda::std::span<int> histogram, cudaStream_t stream) {\n",
    "  int block_size = 256;\n",
    "  int grid_size = cuda::ceil_div(temperatures.size(), block_size);\n",
    "  histogram_kernel<<<grid_size, block_size, 0, stream>>>(temperatures,\n",
    "                                                         histogram);\n",
    "}"
   ]
  },
  {
   "cell_type": "code",
   "execution_count": null,
   "id": "5fbc8af6",
   "metadata": {
    "vscode": {
     "languageId": "plaintext"
    }
   },
   "outputs": [],
   "source": [
    "import Sources.dli\n",
    "Sources.dli.run(\"Sources/shmem.cu\")"
   ]
  }
 ],
 "metadata": {
  "language_info": {
   "name": "python"
  }
 },
 "nbformat": 4,
 "nbformat_minor": 5
}
