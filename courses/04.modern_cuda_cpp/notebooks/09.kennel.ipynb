{
 "cells": [
  {
   "cell_type": "code",
   "execution_count": null,
   "id": "81c01885",
   "metadata": {
    "vscode": {
     "languageId": "plaintext"
    }
   },
   "outputs": [],
   "source": [
    "%%writefile Sources/cub.cu\n",
    "#include \"dli.h\"\n",
    "\n",
    "void simulate(dli::temperature_grid_f temp_in, float *temp_out, cudaStream_t stream)\n",
    "{\n",
    "  auto cell_ids = thrust::make_counting_iterator(0);\n",
    "  cub::DeviceTransform::Transform(\n",
    "    cell_ids, temp_out, temp_in.size(), \n",
    "    [temp_in] __host__ __device__ (int cell_id) { \n",
    "      return dli::compute(cell_id, temp_in); \n",
    "    }, stream);\n",
    "}"
   ]
  },
  {
   "cell_type": "code",
   "execution_count": null,
   "id": "f3089a9a",
   "metadata": {
    "vscode": {
     "languageId": "plaintext"
    }
   },
   "outputs": [],
   "source": [
    "!nvcc --extended-lambda -o /tmp/a.out Sources/cub.cu # build executable\n",
    "!/tmp/a.out # run executable"
   ]
  },
  {
   "cell_type": "code",
   "execution_count": null,
   "id": "930842b5",
   "metadata": {
    "vscode": {
     "languageId": "plaintext"
    }
   },
   "outputs": [],
   "source": [
    "%%writefile Sources/simple-kernel.cu\n",
    "#include \"dli.h\"\n",
    "\n",
    "__global__ void single_thread_kernel(dli::temperature_grid_f in, float *out)\n",
    "{\n",
    "  for (int id = 0; id < in.size(); id++) \n",
    "  {\n",
    "    out[id] = dli::compute(id, in);\n",
    "  }\n",
    "}\n",
    "\n",
    "void simulate(dli::temperature_grid_f temp_in, float *temp_out, cudaStream_t stream)\n",
    "{\n",
    "  single_thread_kernel<<<1, 1, 0, stream>>>(temp_in, temp_out);\n",
    "}"
   ]
  },
  {
   "cell_type": "code",
   "execution_count": null,
   "id": "ab1767b1",
   "metadata": {
    "vscode": {
     "languageId": "plaintext"
    }
   },
   "outputs": [],
   "source": [
    "!nvcc --extended-lambda -o /tmp/a.out Sources/simple-kernel.cu # build executable\n",
    "!/tmp/a.out # run executable"
   ]
  },
  {
   "cell_type": "code",
   "execution_count": null,
   "id": "a80a1eaa",
   "metadata": {
    "vscode": {
     "languageId": "plaintext"
    }
   },
   "outputs": [],
   "source": [
    "%%writefile Sources/block-256-kernel.cu\n",
    "#include \"dli.h\"\n",
    "\n",
    "const int number_of_threads = 256;\n",
    "\n",
    "__global__ void block_kernel(dli::temperature_grid_f in, float *out)\n",
    "{\n",
    "  int thread_index = threadIdx.x;\n",
    "\n",
    "  for (int id = thread_index; id < in.size(); id += number_of_threads) \n",
    "  {\n",
    "    out[id] = dli::compute(id, in);\n",
    "  }\n",
    "}\n",
    "\n",
    "void simulate(dli::temperature_grid_f temp_in, float *temp_out, cudaStream_t stream)\n",
    "{\n",
    "  block_kernel<<<1, number_of_threads, 0, stream>>>(temp_in, temp_out);\n",
    "}"
   ]
  },
  {
   "cell_type": "code",
   "execution_count": null,
   "id": "85eed925",
   "metadata": {
    "vscode": {
     "languageId": "plaintext"
    }
   },
   "outputs": [],
   "source": [
    "!nvcc --extended-lambda -o /tmp/a.out Sources/block-256-kernel.cu # build executable\n",
    "!/tmp/a.out # run executable"
   ]
  },
  {
   "cell_type": "code",
   "execution_count": null,
   "id": "667dffbd",
   "metadata": {
    "vscode": {
     "languageId": "plaintext"
    }
   },
   "outputs": [],
   "source": [
    "%%writefile Sources/grid-kernel.cu\n",
    "#include \"dli.h\"\n",
    "\n",
    "__global__ void grid_kernel(dli::temperature_grid_f in, float *out)\n",
    "{\n",
    "  int thread_index = blockDim.x * blockIdx.x + threadIdx.x;\n",
    "  int number_of_threads = blockDim.x * gridDim.x;\n",
    "\n",
    "  for (int id = thread_index; id < in.size(); id += number_of_threads) \n",
    "  {\n",
    "    out[id] = dli::compute(id, in);\n",
    "  }\n",
    "}\n",
    "\n",
    "int ceil_div(int a, int b) \n",
    "{\n",
    "  return (a + b - 1) / b;\n",
    "}\n",
    "\n",
    "void simulate(dli::temperature_grid_f temp_in, float *temp_out, cudaStream_t stream)\n",
    "{\n",
    "  int block_size = 1024;\n",
    "  int grid_size = ceil_div(temp_in.size(), block_size);\n",
    "\n",
    "  grid_kernel<<<grid_size, block_size, 0, stream>>>(temp_in, temp_out);\n",
    "}"
   ]
  },
  {
   "cell_type": "code",
   "execution_count": null,
   "id": "195e0bff",
   "metadata": {
    "vscode": {
     "languageId": "plaintext"
    }
   },
   "outputs": [],
   "source": [
    "!nvcc --extended-lambda -o /tmp/a.out Sources/grid-kernel.cu # build executable\n",
    "!/tmp/a.out # run executable"
   ]
  }
 ],
 "metadata": {
  "language_info": {
   "name": "python"
  }
 },
 "nbformat": 4,
 "nbformat_minor": 5
}
