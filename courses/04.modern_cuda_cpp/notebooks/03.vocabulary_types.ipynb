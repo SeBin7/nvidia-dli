{
 "cells": [
  {
   "cell_type": "code",
   "execution_count": null,
   "id": "d59c2851",
   "metadata": {
    "vscode": {
     "languageId": "plaintext"
    }
   },
   "outputs": [],
   "source": [
    "%%writefile Sources/naive-heat-2D.cu\n",
    "#include \"dli.h\"\n",
    "\n",
    "void simulate(int height, int width, \n",
    "              const thrust::universal_vector<float> &in,\n",
    "                    thrust::universal_vector<float> &out) \n",
    "{\n",
    "  const float *in_ptr = thrust::raw_pointer_cast(in.data());\n",
    "\n",
    "  auto cell_indices = thrust::make_counting_iterator(0);\n",
    "  thrust::transform(\n",
    "      thrust::device, cell_indices, cell_indices + in.size(), out.begin(),\n",
    "      [in_ptr, height, width] __host__ __device__(int id) {\n",
    "        int column = id % width;\n",
    "        int row = id / width;\n",
    "\n",
    "        if (row > 0 && column > 0 && row < height - 1 && column < width - 1) {\n",
    "          float d2tdx2 = in_ptr[(row) * width + column - 1] - 2 * in_ptr[row * width + column] + in_ptr[(row) * width + column + 1];\n",
    "          float d2tdy2 = in_ptr[(row - 1) * width + column] - 2 * in_ptr[row * width + column] + in_ptr[(row + 1) * width + column];\n",
    "\n",
    "          return in_ptr[row * width + column] + 0.2f * (d2tdx2 + d2tdy2);\n",
    "        } else {\n",
    "          return in_ptr[row * width + column];\n",
    "        }\n",
    "      });\n",
    "}"
   ]
  },
  {
   "cell_type": "code",
   "execution_count": null,
   "id": "fea82ee1",
   "metadata": {
    "vscode": {
     "languageId": "plaintext"
    }
   },
   "outputs": [],
   "source": [
    "import Sources.dli\n",
    "Sources.dli.run(\"Sources/naive-heat-2D.cu\")"
   ]
  },
  {
   "cell_type": "code",
   "execution_count": null,
   "id": "48c9c238",
   "metadata": {
    "vscode": {
     "languageId": "plaintext"
    }
   },
   "outputs": [],
   "source": [
    "%%writefile Sources/tabulate.cu\n",
    "#include \"dli.h\"\n",
    "\n",
    "void simulate(int height, int width,\n",
    "              const thrust::universal_vector<float> &in,\n",
    "                    thrust::universal_vector<float> &out)\n",
    "{\n",
    "  const float *in_ptr = thrust::raw_pointer_cast(in.data());\n",
    "\n",
    "  thrust::tabulate(\n",
    "    thrust::device, out.begin(), out.end(), \n",
    "    [in_ptr, height, width] __host__ __device__(int id) {\n",
    "      int column = id % width;\n",
    "      int row = id / width;\n",
    "\n",
    "      if (row > 0 && column > 0 && row < height - 1 && column < width - 1) {\n",
    "        float d2tdx2 = in_ptr[(row) * width + column - 1] - 2 * in_ptr[row * width + column] + in_ptr[(row) * width + column + 1];\n",
    "        float d2tdy2 = in_ptr[(row - 1) * width + column] - 2 * in_ptr[row * width + column] + in_ptr[(row + 1) * width + column];\n",
    "\n",
    "        return in_ptr[row * width + column] + 0.2f * (d2tdx2 + d2tdy2);\n",
    "      } else {\n",
    "        return in_ptr[row * width + column];\n",
    "      }\n",
    "    });\n",
    "}"
   ]
  },
  {
   "cell_type": "code",
   "execution_count": null,
   "id": "41874cd6",
   "metadata": {
    "vscode": {
     "languageId": "plaintext"
    }
   },
   "outputs": [],
   "source": [
    "import Sources.dli\n",
    "Sources.dli.run(\"Sources/tabulate.cu\")"
   ]
  },
  {
   "cell_type": "code",
   "execution_count": null,
   "id": "7ee144f0",
   "metadata": {
    "vscode": {
     "languageId": "plaintext"
    }
   },
   "outputs": [],
   "source": [
    "%%writefile Sources/std-pair.cu\n",
    "#include \"dli.h\"\n",
    "\n",
    "__host__ __device__\n",
    "std::pair<int, int> row_col(int id, int width) {\n",
    "    return std::make_pair(id / width, id % width);\n",
    "}\n",
    "\n",
    "void simulate(int height, int width,\n",
    "              const thrust::universal_vector<float> &in,\n",
    "                    thrust::universal_vector<float> &out)\n",
    "{\n",
    "  const float *in_ptr = thrust::raw_pointer_cast(in.data());\n",
    "\n",
    "  thrust::tabulate(\n",
    "    thrust::device, out.begin(), out.end(), \n",
    "    [in_ptr, height, width] __host__ __device__(int id) {\n",
    "      auto [row, column] = row_col(id, width);\n",
    "\n",
    "      if (row > 0 && column > 0 && row < height - 1 && column < width - 1) {\n",
    "        float d2tdx2 = in_ptr[(row) * width + column - 1] - 2 * in_ptr[row * width + column] + in_ptr[(row) * width + column + 1];\n",
    "        float d2tdy2 = in_ptr[(row - 1) * width + column] - 2 * in_ptr[row * width + column] + in_ptr[(row + 1) * width + column];\n",
    "\n",
    "        return in_ptr[row * width + column] + 0.2f * (d2tdx2 + d2tdy2);\n",
    "      } else {\n",
    "        return in_ptr[row * width + column];\n",
    "      }\n",
    "    });\n",
    "}"
   ]
  },
  {
   "cell_type": "code",
   "execution_count": null,
   "id": "df73d396",
   "metadata": {
    "vscode": {
     "languageId": "plaintext"
    }
   },
   "outputs": [],
   "source": [
    "!nvcc --extended-lambda -std=c++17 -o /tmp/a.out Sources/std-pair.cu"
   ]
  },
  {
   "cell_type": "code",
   "execution_count": null,
   "id": "7c41f806",
   "metadata": {
    "vscode": {
     "languageId": "plaintext"
    }
   },
   "outputs": [],
   "source": [
    "%%writefile Sources/pair.cu\n",
    "#include \"dli.h\"\n",
    "\n",
    "__host__ __device__\n",
    "cuda::std::pair<int, int> row_col(int id, int width) {\n",
    "    return cuda::std::make_pair(id / width, id % width);\n",
    "}\n",
    "\n",
    "void simulate(int height, int width,\n",
    "              const thrust::universal_vector<float> &in,\n",
    "                    thrust::universal_vector<float> &out)\n",
    "{\n",
    "  const float *in_ptr = thrust::raw_pointer_cast(in.data());\n",
    "\n",
    "  thrust::tabulate(\n",
    "    thrust::device, out.begin(), out.end(), \n",
    "    [in_ptr, height, width] __host__ __device__(int id) {\n",
    "      auto [row, column] = row_col(id, width);\n",
    "\n",
    "      if (row > 0 && column > 0 && row < height - 1 && column < width - 1) {\n",
    "        float d2tdx2 = in_ptr[(row) * width + column - 1] - 2 * in_ptr[row * width + column] + in_ptr[(row) * width + column + 1];\n",
    "        float d2tdy2 = in_ptr[(row - 1) * width + column] - 2 * in_ptr[row * width + column] + in_ptr[(row + 1) * width + column];\n",
    "\n",
    "        return in_ptr[row * width + column] + 0.2f * (d2tdx2 + d2tdy2);\n",
    "      } else {\n",
    "        return in_ptr[row * width + column];\n",
    "      }\n",
    "    });\n",
    "}"
   ]
  },
  {
   "cell_type": "code",
   "execution_count": null,
   "id": "83a11ff4",
   "metadata": {
    "vscode": {
     "languageId": "plaintext"
    }
   },
   "outputs": [],
   "source": [
    "import Sources.dli\n",
    "Sources.dli.run(\"Sources/pair.cu\")"
   ]
  },
  {
   "cell_type": "code",
   "execution_count": null,
   "id": "35997fe5",
   "metadata": {
    "vscode": {
     "languageId": "plaintext"
    }
   },
   "outputs": [],
   "source": [
    "%%writefile Sources/mdspan-intro.cu\n",
    "\n",
    "#include <cuda/std/mdspan>\n",
    "#include <cuda/std/array>\n",
    "#include <cstdio>\n",
    "\n",
    "int main() {\n",
    "  cuda::std::array<int, 6> sd {0, 1, 2, 3, 4, 5};\n",
    "  cuda::std::mdspan md(sd.data(), 2, 3);\n",
    "\n",
    "  std::printf(\"md(0, 0) = %d\\n\", md(0, 0)); // 0\n",
    "  std::printf(\"md(1, 2) = %d\\n\", md(1, 2)); // 5\n",
    "\n",
    "  std::printf(\"size   = %zu\\n\", md.size());    // 6\n",
    "  std::printf(\"height = %zu\\n\", md.extent(0)); // 2\n",
    "  std::printf(\"width  = %zu\\n\", md.extent(1)); // 3\n",
    "}"
   ]
  },
  {
   "cell_type": "code",
   "execution_count": null,
   "id": "e30f1384",
   "metadata": {
    "vscode": {
     "languageId": "plaintext"
    }
   },
   "outputs": [],
   "source": [
    "!nvcc -std=c++17 -o /tmp/a.out Sources/mdspan-intro.cu && /tmp/a.out"
   ]
  }
 ],
 "metadata": {
  "language_info": {
   "name": "python"
  }
 },
 "nbformat": 4,
 "nbformat_minor": 5
}
