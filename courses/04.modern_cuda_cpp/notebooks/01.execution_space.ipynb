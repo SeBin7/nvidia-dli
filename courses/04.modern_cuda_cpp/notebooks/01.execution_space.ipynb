{
 "cells": [
  {
   "cell_type": "code",
   "execution_count": null,
   "id": "9971c7a9",
   "metadata": {
    "vscode": {
     "languageId": "plaintext"
    }
   },
   "outputs": [],
   "source": [
    "%%writefile Sources/cpu-cooling.cpp\n",
    "\n",
    "#include <cstdio>\n",
    "#include <vector>\n",
    "\n",
    "int main() {\n",
    "    float k = 0.5;\n",
    "    float ambient_temp = 20;\n",
    "    std::vector<float> temp{ 42, 24, 50 };\n",
    "\n",
    "    std::printf(\"step  temp[0]  temp[1]  temp[2]\\n\");\n",
    "    for (int step = 0; step < 3; step++) {\n",
    "        for (int i = 0; i < temp.size(); i++) {\n",
    "            float diff = ambient_temp - temp[i];\n",
    "            temp[i] = temp[i] + k * diff;\n",
    "        }\n",
    "\n",
    "        std::printf(\"%d     %.2f    %.2f    %.2f\\n\", step, temp[0], temp[1], temp[2]);\n",
    "    }\n",
    "}"
   ]
  },
  {
   "cell_type": "code",
   "execution_count": null,
   "id": "84b264ae",
   "metadata": {
    "vscode": {
     "languageId": "plaintext"
    }
   },
   "outputs": [],
   "source": [
    "!g++ Sources/cpu-cooling.cpp -o ./Sources/a.out # compile the code\n",
    "! ./Sources/a.out # run the executable"
   ]
  },
  {
   "cell_type": "code",
   "execution_count": null,
   "id": "1e2c18f8",
   "metadata": {
    "vscode": {
     "languageId": "plaintext"
    }
   },
   "outputs": [],
   "source": [
    "!nvcc -x cu Sources/cpu-cooling.cpp -o ./Sources/b.out # compile the code\n",
    "!./Sources/b.out # run the executable"
   ]
  },
  {
   "cell_type": "code",
   "execution_count": null,
   "id": "0ecbfd56",
   "metadata": {
    "vscode": {
     "languageId": "plaintext"
    }
   },
   "outputs": [],
   "source": [
    "%%writefile Sources/gpu-cooling.cu\n",
    "\n",
    "#include <algorithm>\n",
    "#include <cstdio>\n",
    "#include <vector>\n",
    "\n",
    "int main() {\n",
    "    float k = 0.5;\n",
    "    float ambient_temp = 20;\n",
    "    std::vector<float> temp{ 42, 24, 50 };\n",
    "    auto transformation = [=] (float temp) { return temp + k * (ambient_temp - temp); };\n",
    "\n",
    "    std::printf(\"step  temp[0]  temp[1]  temp[2]\\n\");\n",
    "    for (int step = 0; step < 3; step++) {\n",
    "        std::transform(temp.begin(), temp.end(), temp.begin(), transformation);\n",
    "        std::printf(\"%d     %.2f    %.2f    %.2f\\n\", step, temp[0], temp[1], temp[2]);\n",
    "    }\n",
    "}"
   ]
  },
  {
   "cell_type": "code",
   "execution_count": null,
   "id": "d4022364",
   "metadata": {
    "vscode": {
     "languageId": "plaintext"
    }
   },
   "outputs": [],
   "source": [
    "!nvcc Sources/gpu-cooling.cu -o ./Sources/c.out # compile the code\n",
    "!./Sources/c.out # run the executable"
   ]
  },
  {
   "cell_type": "code",
   "execution_count": null,
   "id": "1b9c94b5",
   "metadata": {
    "vscode": {
     "languageId": "plaintext"
    }
   },
   "outputs": [],
   "source": [
    "%%writefile Sources/thrust-cooling.cu\n",
    "\n",
    "#include <thrust/execution_policy.h>\n",
    "#include <thrust/universal_vector.h>\n",
    "#include <thrust/transform.h>\n",
    "#include <cstdio>\n",
    "\n",
    "int main() {\n",
    "    float k = 0.5;\n",
    "    float ambient_temp = 20;\n",
    "    thrust::universal_vector<float> temp{ 42, 24, 50 };\n",
    "    auto transformation = [=] __host__ __device__ (float temp) { return temp + k * (ambient_temp - temp); };\n",
    "\n",
    "    std::printf(\"step  temp[0]  temp[1]  temp[2]\\n\");\n",
    "    for (int step = 0; step < 3; step++) {\n",
    "        thrust::transform(thrust::device, temp.begin(), temp.end(), temp.begin(), transformation);\n",
    "        std::printf(\"%d     %.2f    %.2f    %.2f\\n\", step, temp[0], temp[1], temp[2]);\n",
    "    }\n",
    "}"
   ]
  },
  {
   "cell_type": "code",
   "execution_count": null,
   "id": "b6661b91",
   "metadata": {
    "vscode": {
     "languageId": "plaintext"
    }
   },
   "outputs": [],
   "source": [
    "!nvcc --extended-lambda Sources/thrust-cooling.cu -o /tmp/a.out # compile the code\n",
    "!/tmp/a.out # run the executable"
   ]
  },
  {
   "cell_type": "code",
   "execution_count": null,
   "id": "f837da5f",
   "metadata": {
    "vscode": {
     "languageId": "plaintext"
    }
   },
   "outputs": [],
   "source": [
    "%%writefile Sources/no-magic-execution-space-changes.cu\n",
    "#include \"dli.h\"\n",
    "\n",
    "int main() {\n",
    "  dli::where_am_I(\"CPU\");\n",
    "\n",
    "  thrust::universal_vector<int> vec{1};\n",
    "  thrust::for_each(thrust::device, vec.begin(), vec.end(),\n",
    "                   [] __host__ __device__(int) { dli::where_am_I(\"GPU\"); });\n",
    "\n",
    "  thrust::for_each(thrust::host, vec.begin(), vec.end(),\n",
    "                   [] __host__ __device__(int) { dli::where_am_I(\"CPU\"); });\n",
    "\n",
    "  dli::where_am_I(\"CPU\");\n",
    "}"
   ]
  },
  {
   "cell_type": "code",
   "execution_count": null,
   "id": "bdc2e733",
   "metadata": {
    "vscode": {
     "languageId": "plaintext"
    }
   },
   "outputs": [],
   "source": [
    "!nvcc -o /tmp/a.out --extended-lambda Sources/no-magic-execution-space-changes.cu # build executable\n",
    "!/tmp/a.out # run executable"
   ]
  },
  {
   "cell_type": "code",
   "execution_count": null,
   "id": "0d8437b7",
   "metadata": {
    "vscode": {
     "languageId": "plaintext"
    }
   },
   "outputs": [],
   "source": [
    "%%writefile Sources/port-thrust-to-gpu.cu\n",
    "#include \"dli.h\"\n",
    "\n",
    "int main() {\n",
    "    thrust::universal_vector<int> vec{ 1, 2, 3,4,5,6,7,8,9,10,11,12,13,14,15,16,17,18,19,20,21,22,23,24,25,26,27,28,29,30,31,32,33,34,35,36,37,38,39,40,41,42,43,44,45,46,47,48,49,50,51,52,53,54,55,56,57,58,59,60,61,62,63,64,65,66,67,68,69,70,71,72,73,74,75,76,77,78,79,80,81 };\n",
    "    thrust::for_each(thrust::device, vec.begin(), vec.end(), []__device__(int val) {\n",
    "        std::printf(\"printing %d on %s\\n\", val, dli::execution_space());\n",
    "    });\n",
    "}"
   ]
  },
  {
   "cell_type": "code",
   "execution_count": null,
   "id": "6513a1ff",
   "metadata": {
    "vscode": {
     "languageId": "plaintext"
    }
   },
   "outputs": [],
   "source": [
    "!nvcc -o /tmp/a.out --extended-lambda Sources/port-thrust-to-gpu.cu # build executable\n",
    "!/tmp/a.out # run executable"
   ]
  },
  {
   "cell_type": "code",
   "execution_count": null,
   "id": "55738c7c",
   "metadata": {
    "vscode": {
     "languageId": "plaintext"
    }
   },
   "outputs": [],
   "source": [
    "%%writefile Sources/port-sort-to-gpu.cu\n",
    "#include \"dli.h\"\n",
    "\n",
    "float median(thrust::universal_vector<float> vec) \n",
    "{\n",
    "    thrust::sort(thrust::device, vec.begin(), vec.end());\n",
    "    //thrust::sort(thrust::host, vec.begin(), vec.end()); \n",
    "    return vec[vec.size() / 2];\n",
    "}\n",
    "\n",
    "int main() \n",
    "{\n",
    "    float k = 0.5;\n",
    "    float ambient_temp = 20;\n",
    "    thrust::universal_vector<float> temp{ 42, 24, 50 };\n",
    "    auto transformation = [=] __host__ __device__ (float temp) { return temp + k * (ambient_temp - temp); };\n",
    "\n",
    "    std::printf(\"step  median\\n\");\n",
    "    for (int step = 0; step < 3; step++) {\n",
    "        thrust::transform(thrust::device, temp.begin(), temp.end(), temp.begin(), transformation);\n",
    "        float median_temp = median(temp);\n",
    "        std::printf(\"%d     %.2f\\n\", step, median_temp);\n",
    "    }\n",
    "}"
   ]
  },
  {
   "cell_type": "code",
   "execution_count": null,
   "id": "64a3b136",
   "metadata": {
    "vscode": {
     "languageId": "plaintext"
    }
   },
   "outputs": [],
   "source": [
    "!nvcc -o /tmp/a.out --extended-lambda Sources/port-sort-to-gpu.cu # build executable\n",
    "!/tmp/a.out # run executable"
   ]
  }
 ],
 "metadata": {
  "language_info": {
   "name": "python"
  }
 },
 "nbformat": 4,
 "nbformat_minor": 5
}
