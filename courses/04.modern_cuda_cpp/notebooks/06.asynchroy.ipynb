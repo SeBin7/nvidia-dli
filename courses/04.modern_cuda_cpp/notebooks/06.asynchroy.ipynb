{
 "cells": [
  {
   "cell_type": "code",
   "execution_count": null,
   "id": "325abb62",
   "metadata": {
    "vscode": {
     "languageId": "plaintext"
    }
   },
   "outputs": [],
   "source": [
    "%%writefile Sources/cub-perf-sync.cu\n",
    "#include \"dli.h\"\n",
    "\n",
    "float simulate(int width,\n",
    "               int height,\n",
    "               const thrust::device_vector<float> &in,\n",
    "                     thrust::device_vector<float> &out,\n",
    "               bool use_cub) \n",
    "{\n",
    "  cuda::std::mdspan temp_in(thrust::raw_pointer_cast(in.data()), height, width);\n",
    "  auto compute = [=] __host__ __device__(int id) {\n",
    "    const int column = id % width;\n",
    "    const int row    = id / width;\n",
    "\n",
    "    // loop over all points in domain (except boundary)\n",
    "    if (row > 0 && column > 0 && row < height - 1 && column < width - 1)\n",
    "    {\n",
    "      // evaluate derivatives\n",
    "      float d2tdx2 = temp_in(row, column - 1) - 2 * temp_in(row, column) + temp_in(row, column + 1);\n",
    "      float d2tdy2 = temp_in(row - 1, column) - 2 * temp_in(row, column) + temp_in(row + 1, column);\n",
    "\n",
    "      // update temperatures\n",
    "      return temp_in(row, column) + 0.2f * (d2tdx2 + d2tdy2);\n",
    "    }\n",
    "    else\n",
    "    {\n",
    "      return temp_in(row, column);\n",
    "    }\n",
    "  };\n",
    "\n",
    "  auto begin = std::chrono::high_resolution_clock::now();\n",
    "\n",
    "  if (use_cub) \n",
    "  {\n",
    "    // auto cell_ids = thrust::make_counting_iterator(0);\n",
    "    // cub::DeviceTransform::Transform(cell_ids, out.begin(), width * height, compute);\n",
    "    auto cell_ids = thrust::make_counting_iterator(0);\n",
    "    cub::DeviceTransform::Transform(cell_ids, out.begin(), width * height, compute);\n",
    "    cudaDeviceSynchronize();\n",
    "  }\n",
    "  else \n",
    "  {\n",
    "    thrust::tabulate(thrust::device, out.begin(), out.end(), compute);\n",
    "  }\n",
    "  auto end = std::chrono::high_resolution_clock::now();\n",
    "  return std::chrono::duration<float>(end - begin).count();\n",
    "}\n",
    "\n",
    "int main()\n",
    "{\n",
    "  std::cout << \"size, thrust, cub\\n\";\n",
    "  for (int size = 1024; size <= 16384; size *= 2)\n",
    "  {\n",
    "    int width = size;\n",
    "    int height = size;\n",
    "    thrust::device_vector<float> current_temp(height * width, 15.0f);\n",
    "    thrust::device_vector<float> next_temp(height * width);\n",
    "\n",
    "    std::cout << size << \", \"\n",
    "              << simulate(width, height, current_temp, next_temp, false) << \", \"\n",
    "              << simulate(width, height, current_temp, next_temp, true) << \"\\n\";\n",
    "  }\n",
    "}"
   ]
  },
  {
   "cell_type": "code",
   "execution_count": null,
   "id": "6495725e",
   "metadata": {
    "vscode": {
     "languageId": "plaintext"
    }
   },
   "outputs": [],
   "source": [
    "!nvcc --extended-lambda -o /tmp/a.out Sources/cub-perf-sync.cu # build executable\n",
    "!/tmp/a.out # run executable"
   ]
  },
  {
   "cell_type": "code",
   "execution_count": null,
   "id": "c8920061",
   "metadata": {
    "vscode": {
     "languageId": "plaintext"
    }
   },
   "outputs": [],
   "source": [
    "size, thrust, cub\n",
    "1024, 6.8413e-05, 6.1329e-05\n",
    "2048, 0.000145923, 0.00014446\n",
    "4096, 0.000529286, 0.000528804\n",
    "8192, 0.00207851, 0.00206931\n",
    "16384, 0.00842378, 0.00803759"
   ]
  },
  {
   "cell_type": "code",
   "execution_count": null,
   "id": "aad10e23",
   "metadata": {
    "vscode": {
     "languageId": "plaintext"
    }
   },
   "outputs": [],
   "source": [
    "%%writefile Sources/compute-io-overlap.cu\n",
    "#include \"dli.h\"\n",
    "\n",
    "void simulate(int width,\n",
    "              int height,\n",
    "              const thrust::device_vector<float> &in,\n",
    "                    thrust::device_vector<float> &out,\n",
    "              bool use_cub)\n",
    "{\n",
    "  if(use_cub)\n",
    "  {\n",
    "    cuda::std::mdspan temp_in(thrust::raw_pointer_cast(in.data()), height, width);\n",
    "    cub::DeviceTransform::Transform(\n",
    "        thrust::make_counting_iterator(0), out.begin(), width * height,\n",
    "        [=] __host__ __device__(int id) { return dli::compute(id, temp_in); });\n",
    "  }\n",
    "  else\n",
    "  {\n",
    "    cuda::std::mdspan temp_in(thrust::raw_pointer_cast(in.data()), height, width);\n",
    "    thrust::tabulate(out.begin(), out.end(), [=] __device__(int id) {\n",
    "      return dli::compute(id, temp_in);\n",
    "    });\n",
    "  }\n",
    "}\n",
    "\n",
    "int main()\n",
    "{\n",
    "  int height = 2048;\n",
    "  int width  = 8192;\n",
    "\n",
    "  thrust::device_vector<float> d_prev = dli::init(height, width);\n",
    "  thrust::device_vector<float> d_next(height * width);\n",
    "  thrust::host_vector<float> h_prev(height * width);\n",
    "\n",
    "  const int compute_steps = 500;\n",
    "  const int write_steps = 3;\n",
    "  for (int write_step = 0; write_step < write_steps; write_step++)\n",
    "  {\n",
    "    auto step_begin = std::chrono::high_resolution_clock::now();\n",
    "    thrust::copy(d_prev.begin(), d_prev.end(), h_prev.begin());\n",
    "\n",
    "    for (int compute_step = 0; compute_step < compute_steps; compute_step++)\n",
    "    {\n",
    "      simulate(width, height, d_prev, d_next, true);\n",
    "      d_prev.swap(d_next);\n",
    "    }\n",
    "\n",
    "    auto write_begin = std::chrono::high_resolution_clock::now();\n",
    "    dli::store(write_step, height, width, h_prev);\n",
    "    auto write_end = std::chrono::high_resolution_clock::now();\n",
    "    auto write_seconds = std::chrono::duration<double>(write_end - write_begin).count();\n",
    "\n",
    "    auto step_end = std::chrono::high_resolution_clock::now();\n",
    "    auto step_seconds = std::chrono::duration<double>(step_end - step_begin).count();\n",
    "    std::printf(\"compute + write %d in %g s\\n\", write_step, step_seconds);\n",
    "    std::printf(\"cub       write %d in %g s\\n\", write_step, write_seconds);\n",
    "  }\n",
    "  for (int write_step = 0; write_step < write_steps; write_step++) {\n",
    "    auto step_begin = std::chrono::high_resolution_clock::now();\n",
    "    thrust::copy(d_prev.begin(), d_prev.end(), h_prev.begin());\n",
    "\n",
    "    for (int compute_step = 0; compute_step < compute_steps; compute_step++) {\n",
    "      simulate(width, height, d_prev, d_next, false);\n",
    "      d_prev.swap(d_next);\n",
    "    }\n",
    "\n",
    "    auto write_begin = std::chrono::high_resolution_clock::now();\n",
    "    dli::store(write_step, height, width, h_prev);\n",
    "    auto write_end = std::chrono::high_resolution_clock::now();\n",
    "    auto write_seconds =\n",
    "        std::chrono::duration<double>(write_end - write_begin).count();\n",
    "\n",
    "    cudaDeviceSynchronize();\n",
    "    auto step_end = std::chrono::high_resolution_clock::now();\n",
    "    auto step_seconds =\n",
    "        std::chrono::duration<double>(step_end - step_begin).count();\n",
    "    std::printf(\"compute + write %d in %g s\\n\", write_step, step_seconds);\n",
    "    std::printf(\"thrust    write %d in %g s\\n\", write_step, write_seconds);\n",
    "  }\n",
    "}"
   ]
  },
  {
   "cell_type": "code",
   "execution_count": null,
   "id": "b60dc64c",
   "metadata": {
    "vscode": {
     "languageId": "plaintext"
    }
   },
   "outputs": [],
   "source": [
    "!nvcc --extended-lambda -o /tmp/a.out Sources/compute-io-overlap.cu # build executable\n",
    "!/tmp/a.out # run executable"
   ]
  },
  {
   "cell_type": "code",
   "execution_count": null,
   "id": "494ab8ac",
   "metadata": {
    "vscode": {
     "languageId": "plaintext"
    }
   },
   "outputs": [],
   "source": [
    "compute + write 0 in 0.0920168 s\n",
    "cub       write 0 in 0.0833614 s\n",
    "compute + write 1 in 0.247273 s\n",
    "cub       write 1 in 0.0807166 s\n",
    "compute + write 2 in 0.242608 s\n",
    "cub       write 2 in 0.0803892 s\n",
    "compute + write 0 in 0.481394 s\n",
    "thrust    write 0 in 0.0816625 s\n",
    "compute + write 1 in 0.327001 s\n",
    "thrust    write 1 in 0.0808949 s\n",
    "compute + write 2 in 0.32647 s\n",
    "thrust    write 2 in 0.0802806 s"
   ]
  }
 ],
 "metadata": {
  "language_info": {
   "name": "python"
  }
 },
 "nbformat": 4,
 "nbformat_minor": 5
}
