{
 "cells": [
  {
   "cell_type": "code",
   "execution_count": null,
   "id": "2b3ebc99",
   "metadata": {
    "vscode": {
     "languageId": "plaintext"
    }
   },
   "outputs": [],
   "source": [
    "%%writefile Sources/naive-max-diff.cu\n",
    "#include \"dli.h\"\n",
    "\n",
    "float naive_max_change(const thrust::universal_vector<float>& a, \n",
    "                       const thrust::universal_vector<float>& b) \n",
    "{\n",
    "    // allocate vector to store `a - b`\n",
    "    thrust::universal_vector<float> unnecessarily_materialized_diff(a.size());\n",
    "\n",
    "    // compute products\n",
    "    thrust::transform(thrust::device, \n",
    "                      a.begin(), a.end(),                       // first input sequence\n",
    "                      b.begin(),                                // second input sequence\n",
    "                      unnecessarily_materialized_diff.begin(),  // result\n",
    "                      []__host__ __device__(float x, float y) { // transformation (abs diff)\n",
    "                         return abs(x - y); \n",
    "                      });\n",
    "\n",
    "    // compute max difference\n",
    "    return thrust::reduce(thrust::device, \n",
    "                          unnecessarily_materialized_diff.begin(), \n",
    "                          unnecessarily_materialized_diff.end(), \n",
    "                          0.0f, thrust::maximum<float>{});\n",
    "}\n",
    "\n",
    "int main() \n",
    "{\n",
    "    float k = 0.5;\n",
    "    float ambient_temp = 20;\n",
    "    thrust::universal_vector<float> temp[] = {{ 42, 24, 50 }, { 0, 0, 0}};\n",
    "    auto transformation = [=] __host__ __device__ (float temp) { return temp + k * (ambient_temp - temp); };\n",
    "\n",
    "    std::printf(\"step  max-change\\n\");\n",
    "    for (int step = 0; step < 3; step++) {\n",
    "        thrust::universal_vector<float> &current = temp[step % 2];\n",
    "        thrust::universal_vector<float> &next = temp[(step + 1) % 2];\n",
    "\n",
    "        thrust::transform(thrust::device, current.begin(), current.end(), next.begin(), transformation);\n",
    "        std::printf(\"%d     %.2f\\n\", step, naive_max_change(current, next));\n",
    "    }\n",
    "}"
   ]
  },
  {
   "cell_type": "code",
   "execution_count": null,
   "id": "45f41c93",
   "metadata": {
    "vscode": {
     "languageId": "plaintext"
    }
   },
   "outputs": [],
   "source": [
    "!nvcc --extended-lambda -o /tmp/a.out Sources/naive-max-diff.cu # build executable\n",
    "!/tmp/a.out # run executable"
   ]
  },
  {
   "cell_type": "code",
   "execution_count": null,
   "id": "51c91af1",
   "metadata": {
    "vscode": {
     "languageId": "plaintext"
    }
   },
   "outputs": [],
   "source": [
    "%%writefile Sources/pointer.cu\n",
    "#include \"dli.h\"\n",
    "\n",
    "int main() \n",
    "{\n",
    "    std::array<int, 3> a{ 0, 1, 2 };\n",
    "\n",
    "    int *pointer = a.data();\n",
    "\n",
    "    std::printf(\"pointer[0]: %d\\n\", pointer[0]); // prints 0\n",
    "    std::printf(\"pointer[1]: %d\\n\", pointer[1]); // prints 1\n",
    "}"
   ]
  },
  {
   "cell_type": "code",
   "execution_count": null,
   "id": "39cd9f86",
   "metadata": {
    "vscode": {
     "languageId": "plaintext"
    }
   },
   "outputs": [],
   "source": [
    "!nvcc --extended-lambda -o /tmp/a.out Sources/pointer.cu # build executable\n",
    "!/tmp/a.out # run executable"
   ]
  },
  {
   "cell_type": "code",
   "execution_count": null,
   "id": "1c826fa0",
   "metadata": {
    "vscode": {
     "languageId": "plaintext"
    }
   },
   "outputs": [],
   "source": [
    "%%writefile Sources/counting.cu\n",
    "#include \"dli.h\"\n",
    "\n",
    "struct counting_iterator \n",
    "{\n",
    "  int operator[](int i) \n",
    "  {\n",
    "    return i;\n",
    "  }\n",
    "};\n",
    "\n",
    "int main() \n",
    "{\n",
    "  counting_iterator it;\n",
    "\n",
    "  std::printf(\"it[0]: %d\\n\", it[0]); // prints 0\n",
    "  std::printf(\"it[1]: %d\\n\", it[1]); // prints 1\n",
    "}"
   ]
  },
  {
   "cell_type": "code",
   "execution_count": null,
   "id": "4303bf07",
   "metadata": {
    "vscode": {
     "languageId": "plaintext"
    }
   },
   "outputs": [],
   "source": [
    "!nvcc --extended-lambda -o /tmp/a.out Sources/counting.cu # build executable\n",
    "!/tmp/a.out # run executable"
   ]
  },
  {
   "cell_type": "code",
   "execution_count": null,
   "id": "f4e0ea9a",
   "metadata": {
    "vscode": {
     "languageId": "plaintext"
    }
   },
   "outputs": [],
   "source": [
    "%%writefile Sources/transform.cu\n",
    "#include \"dli.h\"\n",
    "\n",
    "struct transform_iterator \n",
    "{\n",
    "  int *a;\n",
    "\n",
    "  int operator[](int i) \n",
    "  {\n",
    "    return a[i] * 2;\n",
    "  }\n",
    "};\n",
    "\n",
    "int main() \n",
    "{\n",
    "  std::array<int, 3> a{ 0, 1, 2 };\n",
    "\n",
    "  transform_iterator it{a.data()};\n",
    "\n",
    "  std::printf(\"it[0]: %d\\n\", it[0]); // prints 0 (0 * 2)\n",
    "  std::printf(\"it[1]: %d\\n\", it[1]); // prints 2 (1 * 2)\n",
    "}"
   ]
  },
  {
   "cell_type": "code",
   "execution_count": null,
   "id": "b38c0b2f",
   "metadata": {
    "vscode": {
     "languageId": "plaintext"
    }
   },
   "outputs": [],
   "source": [
    "!nvcc --extended-lambda -o /tmp/a.out Sources/transform.cu # build executable\n",
    "!/tmp/a.out # run executable"
   ]
  },
  {
   "cell_type": "code",
   "execution_count": null,
   "id": "f137d539",
   "metadata": {
    "vscode": {
     "languageId": "plaintext"
    }
   },
   "outputs": [],
   "source": [
    "%%writefile Sources/zip.cu\n",
    "#include \"dli.h\"\n",
    "\n",
    "struct zip_iterator \n",
    "{\n",
    "  int *a;\n",
    "  int *b;\n",
    "\n",
    "  std::tuple<int, int> operator[](int i) \n",
    "  {\n",
    "    return {a[i], b[i]};\n",
    "  }\n",
    "};\n",
    "\n",
    "int main() \n",
    "{\n",
    "  std::array<int, 3> a{ 0, 1, 2 };\n",
    "  std::array<int, 3> b{ 5, 4, 2 };\n",
    "\n",
    "  zip_iterator it{a.data(), b.data()};\n",
    "\n",
    "  std::printf(\"it[0]: (%d, %d)\\n\", std::get<0>(it[0]), std::get<1>(it[0])); // prints (0, 5)\n",
    "  std::printf(\"it[0]: (%d, %d)\\n\", std::get<0>(it[1]), std::get<1>(it[1])); // prints (1, 4)\n",
    "}"
   ]
  },
  {
   "cell_type": "code",
   "execution_count": null,
   "id": "64ef4ab0",
   "metadata": {
    "vscode": {
     "languageId": "plaintext"
    }
   },
   "outputs": [],
   "source": [
    "!nvcc --extended-lambda -o /tmp/a.out Sources/zip.cu # build executable\n",
    "!/tmp/a.out # run executable"
   ]
  },
  {
   "cell_type": "code",
   "execution_count": null,
   "id": "163c4dbf",
   "metadata": {
    "vscode": {
     "languageId": "plaintext"
    }
   },
   "outputs": [],
   "source": [
    "%%writefile Sources/transform-zip.cu\n",
    "#include \"dli.h\"\n",
    "\n",
    "struct zip_iterator \n",
    "{\n",
    "  int *a;\n",
    "  int *b;\n",
    "\n",
    "  std::tuple<int, int> operator[](int i) \n",
    "  {\n",
    "    return {a[i], b[i]};\n",
    "  }\n",
    "};\n",
    "\n",
    "struct transform_iterator \n",
    "{\n",
    "  zip_iterator zip;\n",
    "\n",
    "  int operator[](int i) \n",
    "  {\n",
    "    auto [a, b] = zip[i];\n",
    "    return abs(a - b);\n",
    "  }\n",
    "};\n",
    "\n",
    "int main() \n",
    "{\n",
    "  std::array<int, 3> a{ 0, 1, 2 };\n",
    "  std::array<int, 3> b{ 5, 4, 2 };\n",
    "\n",
    "  zip_iterator zip{a.data(), b.data()};\n",
    "  transform_iterator it{zip};\n",
    "\n",
    "  std::printf(\"it[0]: %d\\n\", it[0]); // prints 5\n",
    "  std::printf(\"it[0]: %d\\n\", it[1]); // prints 3\n",
    "}"
   ]
  },
  {
   "cell_type": "code",
   "execution_count": null,
   "id": "fa1a5c2d",
   "metadata": {
    "vscode": {
     "languageId": "plaintext"
    }
   },
   "outputs": [],
   "source": [
    "!nvcc --extended-lambda -o /tmp/a.out Sources/transform-zip.cu # build executable\n",
    "!/tmp/a.out # run executable"
   ]
  },
  {
   "cell_type": "code",
   "execution_count": null,
   "id": "8fd81282",
   "metadata": {
    "vscode": {
     "languageId": "plaintext"
    }
   },
   "outputs": [],
   "source": [
    "%%writefile Sources/transform-output.cu\n",
    "#include \"dli.h\"\n",
    "\n",
    "struct wrapper\n",
    "{\n",
    "   int *ptr; \n",
    "\n",
    "   void operator=(int value) {\n",
    "      *ptr = value / 2;\n",
    "   }\n",
    "};\n",
    "\n",
    "struct transform_output_iterator \n",
    "{\n",
    "  int *a;\n",
    "\n",
    "  wrapper operator[](int i) \n",
    "  {\n",
    "    return {a + i};\n",
    "  }\n",
    "};\n",
    "\n",
    "int main() \n",
    "{\n",
    "  std::array<int, 3> a{ 0, 1, 2 };\n",
    "  transform_output_iterator it{a.data()};\n",
    "\n",
    "  it[0] = 10;\n",
    "  it[1] = 20;\n",
    "\n",
    "  std::printf(\"a[0]: %d\\n\", a[0]); // prints 5\n",
    "  std::printf(\"a[1]: %d\\n\", a[1]); // prints 10\n",
    "}"
   ]
  },
  {
   "cell_type": "code",
   "execution_count": null,
   "id": "728a4a2b",
   "metadata": {
    "vscode": {
     "languageId": "plaintext"
    }
   },
   "outputs": [],
   "source": [
    "!nvcc --extended-lambda -o /tmp/a.out Sources/transform-output.cu # build executable\n",
    "!/tmp/a.out # run executable"
   ]
  },
  {
   "cell_type": "code",
   "execution_count": null,
   "id": "a6942a3a",
   "metadata": {
    "vscode": {
     "languageId": "plaintext"
    }
   },
   "outputs": [],
   "source": [
    "%%writefile Sources/discard.cu\n",
    "#include \"dli.h\"\n",
    "\n",
    "struct wrapper\n",
    "{\n",
    "   void operator=(int value) {\n",
    "      // discard value\n",
    "   }\n",
    "};\n",
    "\n",
    "struct discard_iterator \n",
    "{\n",
    "  wrapper operator[](int i) \n",
    "  {\n",
    "    return {};\n",
    "  }\n",
    "};\n",
    "\n",
    "int main() \n",
    "{\n",
    "  discard_iterator it{};\n",
    "\n",
    "  it[0] = 10;\n",
    "  it[1] = 20;\n",
    "}"
   ]
  },
  {
   "cell_type": "code",
   "execution_count": null,
   "id": "e73d730c",
   "metadata": {
    "vscode": {
     "languageId": "plaintext"
    }
   },
   "outputs": [],
   "source": [
    "!nvcc --extended-lambda -o /tmp/a.out Sources/discard.cu # build executable\n",
    "!/tmp/a.out # run executable"
   ]
  },
  {
   "cell_type": "code",
   "execution_count": null,
   "id": "543bfd2c",
   "metadata": {
    "vscode": {
     "languageId": "plaintext"
    }
   },
   "outputs": [],
   "source": [
    "%%writefile Sources/zip.cu\n",
    "#include \"dli.h\"\n",
    "\n",
    "int main() \n",
    "{\n",
    "    // allocate and initialize input vectors\n",
    "    thrust::universal_vector<float> a{ 31, 22, 35 };\n",
    "    thrust::universal_vector<float> b{ 25, 21, 27 };\n",
    "\n",
    "    // zip two vectors into a single iterator\n",
    "    auto zip = thrust::make_zip_iterator(a.begin(), b.begin());\n",
    "\n",
    "    thrust::tuple<float, float> first = *zip;\n",
    "    std::printf(\"first: (%g, %g)\\n\", thrust::get<0>(first), thrust::get<1>(first));\n",
    "\n",
    "    zip++;\n",
    "\n",
    "    thrust::tuple<float, float> second = *zip;\n",
    "    std::printf(\"second: (%g, %g)\\n\", thrust::get<0>(second), thrust::get<1>(second));\n",
    "}"
   ]
  },
  {
   "cell_type": "code",
   "execution_count": null,
   "id": "bb3d09ce",
   "metadata": {
    "vscode": {
     "languageId": "plaintext"
    }
   },
   "outputs": [],
   "source": [
    "!nvcc --extended-lambda -o /tmp/a.out Sources/zip.cu # build executable\n",
    "!/tmp/a.out # run executable"
   ]
  },
  {
   "cell_type": "code",
   "execution_count": null,
   "id": "09135bf1",
   "metadata": {
    "vscode": {
     "languageId": "plaintext"
    }
   },
   "outputs": [],
   "source": [
    "%%writefile Sources/transform.cu\n",
    "#include \"dli.h\"\n",
    "\n",
    "int main() \n",
    "{\n",
    "    thrust::universal_vector<float> a{ 31, 22, 35 };\n",
    "    thrust::universal_vector<float> b{ 25, 21, 27 };\n",
    "\n",
    "    auto zip = thrust::make_zip_iterator(a.begin(), b.begin());\n",
    "    auto transform = thrust::make_transform_iterator(zip, []__host__ __device__(thrust::tuple<float, float> t) {\n",
    "        return abs(thrust::get<0>(t) - thrust::get<1>(t));\n",
    "    });\n",
    "\n",
    "    std::printf(\"first: %g\\n\", *transform); // absolute difference of `a[0] = 31` and `b[0] = 25`\n",
    "\n",
    "    transform++;\n",
    "\n",
    "    std::printf(\"second: %g\\n\", *transform); // absolute difference of `a[1] = 22` and `b[1] = 21`\n",
    "}"
   ]
  },
  {
   "cell_type": "code",
   "execution_count": null,
   "id": "54886218",
   "metadata": {
    "vscode": {
     "languageId": "plaintext"
    }
   },
   "outputs": [],
   "source": [
    "!nvcc --extended-lambda -o /tmp/a.out Sources/transform.cu # build executable\n",
    "!/tmp/a.out # run executable"
   ]
  },
  {
   "cell_type": "code",
   "execution_count": null,
   "id": "87beb604",
   "metadata": {
    "vscode": {
     "languageId": "plaintext"
    }
   },
   "outputs": [],
   "source": [
    "%%writefile Sources/optimized-max-diff.cu\n",
    "#include \"dli.h\"\n",
    "\n",
    "float max_change(const thrust::universal_vector<float>& a, \n",
    "                 const thrust::universal_vector<float>& b) \n",
    "{\n",
    "    auto zip = thrust::make_zip_iterator(a.begin(), b.begin());\n",
    "    auto transform = thrust::make_transform_iterator(zip, []__host__ __device__(thrust::tuple<float, float> t) {\n",
    "        return abs(thrust::get<0>(t) - thrust::get<1>(t));\n",
    "    });\n",
    "\n",
    "    // compute max difference\n",
    "    return thrust::reduce(thrust::device, transform, transform + a.size(), 0.0f, thrust::maximum<float>{});\n",
    "}\n",
    "\n",
    "int main() \n",
    "{\n",
    "    float k = 0.5;\n",
    "    float ambient_temp = 20;\n",
    "    thrust::universal_vector<float> temp[] = {{ 42, 24, 50 }, { 0, 0, 0}};\n",
    "    auto transformation = [=] __host__ __device__ (float temp) { return temp + k * (ambient_temp - temp); };\n",
    "\n",
    "    std::printf(\"step  max-change\\n\");\n",
    "    for (int step = 0; step < 3; step++) {\n",
    "        thrust::universal_vector<float> &current = temp[step % 2];\n",
    "        thrust::universal_vector<float> &next = temp[(step + 1) % 2];\n",
    "\n",
    "        thrust::transform(thrust::device, current.begin(), current.end(), next.begin(), transformation);\n",
    "        std::printf(\"%d     %.2f\\n\", step, max_change(current, next));\n",
    "    }\n",
    "}"
   ]
  },
  {
   "cell_type": "code",
   "execution_count": null,
   "id": "eced66d0",
   "metadata": {
    "vscode": {
     "languageId": "plaintext"
    }
   },
   "outputs": [],
   "source": [
    "!nvcc --extended-lambda -o /tmp/a.out Sources/optimized-max-diff.cu # build executable\n",
    "!/tmp/a.out # run executable"
   ]
  },
  {
   "cell_type": "code",
   "execution_count": null,
   "id": "8ad51e1d",
   "metadata": {
    "vscode": {
     "languageId": "plaintext"
    }
   },
   "outputs": [],
   "source": [
    "%%writefile Sources/naive-vs-iterators.cu\n",
    "#include \"dli.h\"\n",
    "\n",
    "float naive_max_change(const thrust::universal_vector<float>& a, \n",
    "                       const thrust::universal_vector<float>& b) \n",
    "{\n",
    "    thrust::universal_vector<float> diff(a.size());\n",
    "    thrust::transform(thrust::device, a.begin(), a.end(), b.begin(), diff.begin(),\n",
    "                      []__host__ __device__(float x, float y) {\n",
    "                         return abs(x - y); \n",
    "                      });\n",
    "    return thrust::reduce(thrust::device, diff.begin(), diff.end(), 0.0f, thrust::maximum<float>{});\n",
    "}\n",
    "\n",
    "float max_change(const thrust::universal_vector<float>& a, \n",
    "                 const thrust::universal_vector<float>& b) \n",
    "{\n",
    "    auto zip = thrust::make_zip_iterator(a.begin(), b.begin());\n",
    "    auto transform = thrust::make_transform_iterator(zip, []__host__ __device__(thrust::tuple<float, float> t) {\n",
    "        return abs(thrust::get<0>(t) - thrust::get<1>(t));\n",
    "    });\n",
    "    return thrust::reduce(thrust::device, transform, transform + a.size(), 0.0f, thrust::maximum<float>{});\n",
    "}\n",
    "\n",
    "int main() \n",
    "{\n",
    "    // allocate vectors containing 2^28 elements\n",
    "    thrust::universal_vector<float> a(1 << 28);\n",
    "    thrust::universal_vector<float> b(1 << 28);\n",
    "\n",
    "    thrust::sequence(a.begin(), a.end());\n",
    "    thrust::sequence(b.rbegin(), b.rend());\n",
    "\n",
    "    auto start_naive = std::chrono::high_resolution_clock::now();\n",
    "    naive_max_change(a, b);\n",
    "    auto end_naive = std::chrono::high_resolution_clock::now();\n",
    "    const double naive_duration = std::chrono::duration_cast<std::chrono::milliseconds>(end_naive - start_naive).count();\n",
    "\n",
    "    auto start = std::chrono::high_resolution_clock::now();\n",
    "    max_change(a, b);\n",
    "    auto end = std::chrono::high_resolution_clock::now();\n",
    "    const double duration = std::chrono::duration_cast<std::chrono::milliseconds>(end - start).count();\n",
    "\n",
    "    std::printf(\"iterators are %g times faster than naive approach\\n\", naive_duration / duration);\n",
    "}"
   ]
  },
  {
   "cell_type": "code",
   "execution_count": null,
   "id": "8bce827f",
   "metadata": {
    "vscode": {
     "languageId": "plaintext"
    }
   },
   "outputs": [],
   "source": [
    "!nvcc --extended-lambda -o /tmp/a.out Sources/naive-vs-iterators.cu # build executable\n",
    "!/tmp/a.out # run executable"
   ]
  },
  {
   "cell_type": "code",
   "execution_count": null,
   "id": "bf378c38",
   "metadata": {
    "vscode": {
     "languageId": "plaintext"
    }
   },
   "outputs": [],
   "source": [
    "%%writefile Sources/variance.cu\n",
    "#include \"dli.h\"\n",
    "\n",
    "float variance(const thrust::universal_vector<float> &x, float mean) {\n",
    "  // update the following line so that dereferencing `squared_differences`\n",
    "  // returns `(xi - mean) * (xi - mean)`\n",
    "  auto squared_differences = thrust::make_transform_iterator(x.begin(), [mean]__host__ __device__(float value) {\n",
    "      return (value - mean) * (value - mean);\n",
    "  });\n",
    "\n",
    "  return thrust::reduce(thrust::device, squared_differences,\n",
    "                        squared_differences + x.size()) /\n",
    "         x.size();\n",
    "}\n",
    "\n",
    "float mean(thrust::universal_vector<float> vec) {\n",
    "  return thrust::reduce(thrust::device, vec.begin(), vec.end()) / vec.size();\n",
    "}\n",
    "\n",
    "int main() {\n",
    "  float ambient_temp = 20;\n",
    "  thrust::universal_vector<float> prev{42, 24, 50};\n",
    "  thrust::universal_vector<float> next{0, 0, 0};\n",
    "\n",
    "  std::printf(\"step  variance\\n\");\n",
    "  for (int step = 0; step < 3; step++) {\n",
    "    thrust::transform(thrust::device, prev.begin(), prev.end(), next.begin(),\n",
    "                      [=] __host__ __device__(float temp) {\n",
    "                        return temp + 0.5 * (ambient_temp - temp);\n",
    "                      });\n",
    "    std::printf(\"%d     %.2f\\n\", step, variance(next, mean(next)));\n",
    "    next.swap(prev);\n",
    "  }\n",
    "}"
   ]
  },
  {
   "cell_type": "code",
   "execution_count": null,
   "id": "2e88629e",
   "metadata": {
    "vscode": {
     "languageId": "plaintext"
    }
   },
   "outputs": [],
   "source": [
    "!nvcc --extended-lambda -o /tmp/a.out Sources/variance.cu # build executable\n",
    "!/tmp/a.out # run executable"
   ]
  }
 ],
 "metadata": {
  "language_info": {
   "name": "python"
  }
 },
 "nbformat": 4,
 "nbformat_minor": 5
}
