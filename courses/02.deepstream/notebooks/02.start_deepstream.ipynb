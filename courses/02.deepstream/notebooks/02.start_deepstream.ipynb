{
 "cells": [
  {
   "cell_type": "code",
   "execution_count": null,
   "id": "02f9ca0e",
   "metadata": {
    "tags": []
   },
   "outputs": [],
   "source": [
    "from IPython.display import Video\n",
    "\n",
    "# Convert the H.264 encoded video file to MP4 container file - this will generate the sample_30.mp4 file\n",
    "!ffmpeg -i /dli/task/data/sample_30.h264 /dli/task/sample_30.mp4 \\\n",
    "        -y \\\n",
    "        -loglevel quiet\n",
    "\n",
    "# View the input video\n",
    "Video('sample_30.mp4', width=720)"
   ]
  },
  {
   "cell_type": "code",
   "execution_count": null,
   "id": "cb81c43f",
   "metadata": {},
   "outputs": [],
   "source": [
    "# Run the DeepStream pipeline - this will generate the output_02_encoded.mpeg4 file\n",
    "%run sample_apps/app_2.py data/sample_30.h264"
   ]
  },
  {
   "cell_type": "code",
   "execution_count": null,
   "id": "ead21472",
   "metadata": {},
   "outputs": [],
   "source": [
    "# Convert the encoded video file for playback - this will generate the output_02.mp4 file\n",
    "!ffmpeg -i /dli/task/output_02_encoded.mpeg4 /dli/task/output_02.mp4 -y -loglevel quiet\n",
    "\n",
    "# View the output video\n",
    "Video('output_02.mp4', width=720)"
   ]
  },
  {
   "cell_type": "code",
   "execution_count": null,
   "id": "f39bc385",
   "metadata": {
    "scrolled": true,
    "tags": []
   },
   "outputs": [],
   "source": [
    "!gst-inspect-1.0"
   ]
  },
  {
   "cell_type": "code",
   "execution_count": null,
   "id": "2bed1de1",
   "metadata": {
    "scrolled": true,
    "tags": []
   },
   "outputs": [],
   "source": [
    "!gst-inspect-1.0 h264parse"
   ]
  },
  {
   "cell_type": "raw",
   "id": "5a33b192",
   "metadata": {
    "tags": []
   },
   "source": [
    "!gst-inspect-1.0 nvinfer"
   ]
  }
 ],
 "metadata": {
  "kernelspec": {
   "display_name": "Python 3 (ipykernel)",
   "language": "python",
   "name": "python3"
  },
  "language_info": {
   "codemirror_mode": {
    "name": "ipython",
    "version": 3
   },
   "file_extension": ".py",
   "mimetype": "text/x-python",
   "name": "python",
   "nbconvert_exporter": "python",
   "pygments_lexer": "ipython3",
   "version": "3.8.10"
  }
 },
 "nbformat": 4,
 "nbformat_minor": 5
}
