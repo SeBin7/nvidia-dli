{
 "cells": [
  {
   "cell_type": "code",
   "execution_count": null,
   "id": "4bf32d9c-0338-4c60-805b-6177451d33a6",
   "metadata": {},
   "outputs": [],
   "source": [
    "!detectnet_v2 train --help"
   ]
  }
 ],
 "metadata": {
  "kernelspec": {
   "display_name": "Python 3 (ipykernel)",
   "language": "python",
   "name": "python3"
  },
  "language_info": {
   "codemirror_mode": {
    "name": "ipython",
    "version": 3
   },
   "file_extension": ".py",
   "mimetype": "text/x-python",
   "name": "python",
   "nbconvert_exporter": "python",
   "pygments_lexer": "ipython3",
   "version": "3.8.10"
  }
 },
 "nbformat": 4,
 "nbformat_minor": 5
}
