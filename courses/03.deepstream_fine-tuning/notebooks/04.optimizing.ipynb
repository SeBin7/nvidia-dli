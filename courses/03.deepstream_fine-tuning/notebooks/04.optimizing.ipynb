{
 "cells": [
  {
   "cell_type": "code",
   "execution_count": null,
   "id": "78daac3f-841b-4f3e-a454-03e3e2a2d17e",
   "metadata": {},
   "outputs": [],
   "source": [
    "# Set and create directories for the TAO Toolkit experiment\n",
    "import os\n",
    "\n",
    "os.environ['PROJECT_DIR']='/dli/task/tao_project'\n",
    "os.environ['SOURCE_DATA_DIR']='/dli/task/data'\n",
    "os.environ['DATA_DIR']='/dli/task/tao_project/data'\n",
    "os.environ['MODELS_DIR']='/dli/task/tao_project/models'\n",
    "os.environ['SPEC_FILES_DIR']='/dli/task/spec_files'"
   ]
  },
  {
   "cell_type": "code",
   "execution_count": null,
   "id": "e22173b0-bb9e-4fd5-9a32-2a9e7f2e1f8b",
   "metadata": {},
   "outputs": [],
   "source": [
    "# Read the nvinfer config file\n",
    "!cat $SPEC_FILES_DIR/pgie_config_resnet18_detector_unpruned.txt"
   ]
  },
  {
   "cell_type": "code",
   "execution_count": null,
   "id": "2db69f1c-9204-4886-9a93-f96b1fe9e7c4",
   "metadata": {
    "scrolled": true,
    "tags": []
   },
   "outputs": [],
   "source": [
    "# Run the app_04.py DeepStream pipeline w/ the custom ResNet18 model\n",
    "!nvidia-smi dmon -i 0 \\\n",
    "                 -s ucmt \\\n",
    "                 -c 20 > '/dli/task/logs/smi.log' & \\\n",
    "python sample_apps/app_04.py /dli/task/data/sample_30.h264 \\\n",
    "                            /dli/task/spec_files/pgie_config_resnet18_detector_unpruned.txt \\\n",
    "                            8 \\\n",
    "                            output_tiled.mp4"
   ]
  },
  {
   "cell_type": "code",
   "execution_count": null,
   "id": "46e2c758-d721-4ff4-b2cd-53121c933f3f",
   "metadata": {},
   "outputs": [],
   "source": [
    "# Convert the output video to a format that is compatible with Jupyter Lab\n",
    "!ffmpeg -i output_tiled.mp4 output_tiled_conv.mp4 -y -loglevel quiet"
   ]
  },
  {
   "cell_type": "code",
   "execution_count": null,
   "id": "74e4e3b4-17cc-489a-8582-197d622f174c",
   "metadata": {},
   "outputs": [],
   "source": [
    "# Show video\n",
    "from IPython.display import Video\n",
    "Video('output_tiled_conv.mp4', width=720)"
   ]
  },
  {
   "cell_type": "code",
   "execution_count": null,
   "id": "6942d0b0-572c-49fb-820a-e561b19ae668",
   "metadata": {},
   "outputs": [],
   "source": [
    "# Read the smi.log\n",
    "!cat logs/smi.log"
   ]
  },
  {
   "cell_type": "code",
   "execution_count": null,
   "id": "da59b4ad-03f7-43af-a3e3-8482e483fd6e",
   "metadata": {},
   "outputs": [],
   "source": [
    "# View prune usage\n",
    "!detectnet_v2 prune --help"
   ]
  },
  {
   "cell_type": "code",
   "execution_count": null,
   "id": "1578fe8a-d984-4083-a5e5-5b1bee28c5eb",
   "metadata": {
    "scrolled": true,
    "tags": []
   },
   "outputs": [],
   "source": [
    "# Create a new ResNet model folder and prune the resnet18_detector model\n",
    "!rm -rf $MODELS_DIR/resnet18_detector_pruned\n",
    "!mkdir -p $MODELS_DIR/resnet18_detector_pruned\n",
    "\n",
    "!detectnet_v2 prune -m $MODELS_DIR/resnet18_detector/weights/resnet18_detector.hdf5 \\\n",
    "                    -o $MODELS_DIR/resnet18_detector_pruned/resnet18_detector_pruned.hdf5 \\\n",
    "                    -k tlt_encode"
   ]
  },
  {
   "cell_type": "code",
   "execution_count": null,
   "id": "fee3571c-d038-4a10-bd1d-361f4a6f30f8",
   "metadata": {},
   "outputs": [],
   "source": [
    "# List the model and sizes\n",
    "!ls -rlt $MODELS_DIR/resnet18_detector/weights\n",
    "\n",
    "!ls -rlt $MODELS_DIR/resnet18_detector_pruned"
   ]
  },
  {
   "cell_type": "code",
   "execution_count": null,
   "id": "079bbcef-7988-44eb-b05a-b51bbd80c3a0",
   "metadata": {
    "scrolled": true,
    "tags": []
   },
   "outputs": [],
   "source": [
    "# Evaluate the unpruned model\n",
    "!detectnet_v2 evaluate -e $SPEC_FILES_DIR/combined_training_config.txt \\\n",
    "                       -m $MODELS_DIR/resnet18_detector/weights/resnet18_detector.hdf5 \\\n",
    "                       -k tlt_encode"
   ]
  },
  {
   "cell_type": "code",
   "execution_count": null,
   "id": "763b1881-d01c-4364-aaa4-fba454b6e795",
   "metadata": {
    "scrolled": true,
    "tags": []
   },
   "outputs": [],
   "source": [
    "# Evaluate the pruned model\n",
    "!detectnet_v2 evaluate -e $SPEC_FILES_DIR/combined_training_config.txt \\\n",
    "                       -m $MODELS_DIR/resnet18_detector_pruned/resnet18_detector_pruned.hdf5 \\\n",
    "                       -k tlt_encode"
   ]
  },
  {
   "cell_type": "code",
   "execution_count": null,
   "id": "03ebb96b-741b-4a24-aabe-d5a3ade58e68",
   "metadata": {},
   "outputs": [],
   "source": [
    "# Read the config file\n",
    "!cat $SPEC_FILES_DIR/model_config_qat.txt"
   ]
  },
  {
   "cell_type": "code",
   "execution_count": null,
   "id": "6d0ce272-7130-471d-b88a-d892d8cce51b",
   "metadata": {},
   "outputs": [],
   "source": [
    "# Read the config file\n",
    "!cat $SPEC_FILES_DIR/training_config_qat.txt"
   ]
  },
  {
   "cell_type": "code",
   "execution_count": null,
   "id": "27ff8a43-4108-44f8-8dc6-1be8c260c9c7",
   "metadata": {
    "scrolled": true,
    "tags": []
   },
   "outputs": [],
   "source": [
    "# UPDATED enable_qat and regularizer from training_config\n",
    "# UPDATED pretrained_model_file and load_graph from model_config\n",
    "# Combining configuration components in separate files and writing into one\n",
    "!cat $SPEC_FILES_DIR/dataset_config.txt \\\n",
    "     $SPEC_FILES_DIR/augmentation_config.txt \\\n",
    "     $SPEC_FILES_DIR/model_config_qat.txt \\\n",
    "     $SPEC_FILES_DIR/bbox_rasterizer_config.txt \\\n",
    "     $SPEC_FILES_DIR/postprocessing_config.txt \\\n",
    "     $SPEC_FILES_DIR/training_config_qat.txt \\\n",
    "     $SPEC_FILES_DIR/cost_function_config.txt \\\n",
    "     $SPEC_FILES_DIR/evaluation_config.txt \\\n",
    "     > $SPEC_FILES_DIR/combined_training_config_qat.txt\n",
    "!cat $SPEC_FILES_DIR/combined_training_config_qat.txt"
   ]
  },
  {
   "cell_type": "code",
   "execution_count": null,
   "id": "ec10c586-3205-44f6-9ce3-d17363b36628",
   "metadata": {
    "scrolled": true,
    "tags": []
   },
   "outputs": [],
   "source": [
    "# Initiate the training process\n",
    "!detectnet_v2 train -e $SPEC_FILES_DIR/combined_training_config_qat.txt \\\n",
    "                    -r $MODELS_DIR/resnet18_detector_pruned_retrained_qat \\\n",
    "                    -k tlt_encode \\\n",
    "                    -n resnet18_detector_pruned_retrained_qat"
   ]
  },
  {
   "cell_type": "code",
   "execution_count": null,
   "id": "b81a8b55-a11a-4b03-b723-1c97dbc42a57",
   "metadata": {},
   "outputs": [],
   "source": [
    "# List the newly retrained model\n",
    "!ls -rlt $MODELS_DIR/resnet18_detector_pruned_retrained_qat/weights"
   ]
  },
  {
   "cell_type": "code",
   "execution_count": null,
   "id": "643daab1-33c3-4be9-a1af-9dd284c3938a",
   "metadata": {
    "scrolled": true,
    "tags": []
   },
   "outputs": [],
   "source": [
    "# Evaluate the model using the same validation set as training\n",
    "!detectnet_v2 evaluate -e $SPEC_FILES_DIR/combined_training_config_qat.txt \\\n",
    "                       -m $MODELS_DIR/resnet18_detector_pruned_retrained_qat/weights/resnet18_detector_pruned_retrained_qat.hdf5 \\\n",
    "                       -k tlt_encode"
   ]
  },
  {
   "cell_type": "code",
   "execution_count": null,
   "id": "25067f37-32e7-41be-baaa-5eb5d224d69f",
   "metadata": {
    "scrolled": true,
    "tags": []
   },
   "outputs": [],
   "source": [
    "# Delete duplicate copies\n",
    "!rm -rf $MODELS_DIR/resnet18_detector_final/resnet18_detector_pruned_retrained_qat.hdf5\n",
    "!rm -rf $MODELS_DIR/resnet18_detector_final/cal.bin\n",
    "\n",
    "# Export the QAT trained model\n",
    "!detectnet_v2 export -m $MODELS_DIR/resnet18_detector_pruned_retrained_qat/weights/resnet18_detector_pruned_retrained_qat.hdf5 \\\n",
    "                     -e $SPEC_FILES_DIR/combined_training_config_qat.txt \\\n",
    "                     -o $MODELS_DIR/resnet18_detector_final/resnet18_detector_pruned_retrained_qat \\\n",
    "                     -k tlt_encode \\\n",
    "                     --cal_cache_file $MODELS_DIR/resnet18_detector_final/cal.bin \\\n",
    "                     --data_type int8 \\\n",
    "                     --gen_ds_config"
   ]
  },
  {
   "cell_type": "code",
   "execution_count": null,
   "id": "da8e5893-326b-42ee-9add-b851b1a839b3",
   "metadata": {
    "scrolled": true,
    "tags": []
   },
   "outputs": [],
   "source": [
    "# Run the app_04.py DeepStream pipeline w/ the pruned ResNet18 model\n",
    "!nvidia-smi dmon -i 0 \\\n",
    "                 -s ucmt \\\n",
    "                 -c 20 > '/dli/task/logs/smi.log' & \\\n",
    "python sample_apps/app_04.py /dli/task/data/sample_30.h264 \\\n",
    "                            spec_files/pgie_config_resnet18_detector_optimized.txt \\\n",
    "                            16 \\\n",
    "                            output_tiled_optimized.mp4"
   ]
  },
  {
   "cell_type": "code",
   "execution_count": null,
   "id": "836af9cc-fc51-4b2e-9a8a-1160794cedf6",
   "metadata": {},
   "outputs": [],
   "source": [
    "# Read the smi.log\n",
    "!cat logs/smi.log"
   ]
  },
  {
   "cell_type": "code",
   "execution_count": null,
   "id": "86274023-8fe8-479e-9a24-4498383baf06",
   "metadata": {},
   "outputs": [],
   "source": [
    "# Convert the output video to a format that is compatible with Jupyter Lab\n",
    "!ffmpeg -i output_tiled_optimized.mp4 output_tiled_optimized_conv.mp4 -y -loglevel quiet"
   ]
  },
  {
   "cell_type": "code",
   "execution_count": null,
   "id": "56b1578b-28bb-42e4-aadb-c1052f739e74",
   "metadata": {},
   "outputs": [],
   "source": [
    "# Show video\n",
    "Video('output_tiled_optimized_conv.mp4', width=720)"
   ]
  }
 ],
 "metadata": {
  "kernelspec": {
   "display_name": "Python 3 (ipykernel)",
   "language": "python",
   "name": "python3"
  },
  "language_info": {
   "codemirror_mode": {
    "name": "ipython",
    "version": 3
   },
   "file_extension": ".py",
   "mimetype": "text/x-python",
   "name": "python",
   "nbconvert_exporter": "python",
   "pygments_lexer": "ipython3",
   "version": "3.8.10"
  }
 },
 "nbformat": 4,
 "nbformat_minor": 5
}
