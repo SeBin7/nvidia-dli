{
 "cells": [
  {
   "cell_type": "code",
   "execution_count": null,
   "id": "e252ffaa",
   "metadata": {},
   "outputs": [],
   "source": [
    "# Set and create directories for the TAO Toolkit experiment\n",
    "import os\n",
    "\n",
    "os.environ['PROJECT_DIR']='/dli/task/tao_project'\n",
    "os.environ['SOURCE_DATA_DIR']='/dli/task/data'\n",
    "os.environ['DATA_DIR']='/dli/task/tao_project/data'\n",
    "os.environ['MODELS_DIR']='/dli/task/tao_project/models'\n",
    "os.environ['SPEC_FILES_DIR']='/dli/task/spec_files'"
   ]
  },
  {
   "cell_type": "code",
   "execution_count": null,
   "id": "2bde0cdf",
   "metadata": {
    "scrolled": true,
    "tags": []
   },
   "outputs": [],
   "source": [
    "# Combining configuration components in separate files and writing into one\n",
    "!cat $SPEC_FILES_DIR/dataset_config.txt \\\n",
    "     $SPEC_FILES_DIR/augmentation_config.txt \\\n",
    "     $SPEC_FILES_DIR/model_config.txt \\\n",
    "     $SPEC_FILES_DIR/bbox_rasterizer_config.txt \\\n",
    "     $SPEC_FILES_DIR/postprocessing_config.txt \\\n",
    "     $SPEC_FILES_DIR/training_config.txt \\\n",
    "     $SPEC_FILES_DIR/cost_function_config.txt \\\n",
    "     $SPEC_FILES_DIR/evaluation_config.txt \\\n",
    "     > $SPEC_FILES_DIR/combined_training_config.txt\n",
    "!cat $SPEC_FILES_DIR/combined_training_config.txt"
   ]
  },
  {
   "cell_type": "code",
   "execution_count": null,
   "id": "e78d21a4",
   "metadata": {},
   "outputs": [],
   "source": [
    "# Read the config file\n",
    "!cat $SPEC_FILES_DIR/dataset_config.txt"
   ]
  },
  {
   "cell_type": "code",
   "execution_count": null,
   "id": "acadf060",
   "metadata": {},
   "outputs": [],
   "source": [
    "# Read the config file\n",
    "!cat $SPEC_FILES_DIR/augmentation_config.txt"
   ]
  },
  {
   "cell_type": "code",
   "execution_count": null,
   "id": "f5a54220",
   "metadata": {
    "tags": []
   },
   "outputs": [],
   "source": [
    "# Read the config file\n",
    "!cat $SPEC_FILES_DIR/model_config.txt"
   ]
  },
  {
   "cell_type": "code",
   "execution_count": null,
   "id": "96103e32",
   "metadata": {},
   "outputs": [],
   "source": [
    "# Read the config file\n",
    "!cat $SPEC_FILES_DIR/bbox_rasterizer_config.txt"
   ]
  },
  {
   "cell_type": "code",
   "execution_count": null,
   "id": "9061dc68",
   "metadata": {},
   "outputs": [],
   "source": [
    "# Read the config file\n",
    "!cat $SPEC_FILES_DIR/postprocessing_config.txt"
   ]
  },
  {
   "cell_type": "code",
   "execution_count": null,
   "id": "e0233f04",
   "metadata": {},
   "outputs": [],
   "source": [
    "# Read the config file\n",
    "!cat $SPEC_FILES_DIR/training_config.txt"
   ]
  },
  {
   "cell_type": "code",
   "execution_count": null,
   "id": "895fa38a",
   "metadata": {},
   "outputs": [],
   "source": [
    "# Read the config file\n",
    "!cat $SPEC_FILES_DIR/cost_function_config.txt"
   ]
  },
  {
   "cell_type": "code",
   "execution_count": null,
   "id": "bcbde323",
   "metadata": {},
   "outputs": [],
   "source": [
    "# Read the config file\n",
    "!cat $SPEC_FILES_DIR/evaluation_config.txt"
   ]
  },
  {
   "cell_type": "code",
   "execution_count": null,
   "id": "b56238fc",
   "metadata": {
    "scrolled": true,
    "tags": []
   },
   "outputs": [],
   "source": [
    "# Combining configuration components in separate files and writing into one\n",
    "!cat $SPEC_FILES_DIR/dataset_config.txt \\\n",
    "     $SPEC_FILES_DIR/augmentation_config.txt \\\n",
    "     $SPEC_FILES_DIR/model_config.txt \\\n",
    "     $SPEC_FILES_DIR/bbox_rasterizer_config.txt \\\n",
    "     $SPEC_FILES_DIR/postprocessing_config.txt \\\n",
    "     $SPEC_FILES_DIR/training_config.txt \\\n",
    "     $SPEC_FILES_DIR/cost_function_config.txt \\\n",
    "     $SPEC_FILES_DIR/evaluation_config.txt \\\n",
    "     > $SPEC_FILES_DIR/combined_training_config.txt\n",
    "!cat $SPEC_FILES_DIR/combined_training_config.txt"
   ]
  },
  {
   "cell_type": "code",
   "execution_count": null,
   "id": "acdfa2dd",
   "metadata": {},
   "outputs": [],
   "source": [
    "# View train usage\n",
    "!detectnet_v2 train --help"
   ]
  },
  {
   "cell_type": "code",
   "execution_count": null,
   "id": "d96305c2",
   "metadata": {
    "scrolled": true,
    "tags": []
   },
   "outputs": [],
   "source": [
    "# Initiate the training process\n",
    "!detectnet_v2 train -e $SPEC_FILES_DIR/combined_training_config.txt \\\n",
    "                    -r $MODELS_DIR/resnet18_detector \\\n",
    "                    -k tlt_encode \\\n",
    "                    -n resnet18_detector"
   ]
  },
  {
   "cell_type": "code",
   "execution_count": null,
   "id": "8371d379",
   "metadata": {},
   "outputs": [],
   "source": [
    "# View saved weights\n",
    "print('Model for Each Epoch:')\n",
    "print('---------------------')\n",
    "\n",
    "!ls -lh $MODELS_DIR/resnet18_detector/weights"
   ]
  },
  {
   "cell_type": "code",
   "execution_count": null,
   "id": "af368815",
   "metadata": {},
   "outputs": [],
   "source": [
    "# View evaluate usage\n",
    "!detectnet_v2 evaluate --help"
   ]
  },
  {
   "cell_type": "code",
   "execution_count": null,
   "id": "19cd4201",
   "metadata": {
    "scrolled": true,
    "tags": []
   },
   "outputs": [],
   "source": [
    "# Evaluate the model using the same validation set as training\n",
    "!detectnet_v2 evaluate -e $SPEC_FILES_DIR/combined_training_config.txt\\\n",
    "                       -m $MODELS_DIR/resnet18_detector/weights/resnet18_detector.hdf5\n",
    "                       -k tlt_encode"
   ]
  },
  {
   "cell_type": "code",
   "execution_count": null,
   "id": "f35112c5",
   "metadata": {},
   "outputs": [],
   "source": [
    "# Read the config file\n",
    "!cat $SPEC_FILES_DIR/inferencer_config.txt"
   ]
  },
  {
   "cell_type": "code",
   "execution_count": null,
   "id": "b2a06518",
   "metadata": {},
   "outputs": [],
   "source": [
    "# Read the config file\n",
    "!cat $SPEC_FILES_DIR/bbox_handler_config.txt"
   ]
  },
  {
   "cell_type": "code",
   "execution_count": null,
   "id": "6a377b04",
   "metadata": {},
   "outputs": [],
   "source": [
    "# Combining configuration components in separate files and writing into one\n",
    "!cat $SPEC_FILES_DIR/inferencer_config.txt \\\n",
    "     $SPEC_FILES_DIR/bbox_handler_config.txt \\\n",
    "     > $SPEC_FILES_DIR/combined_inference_config.txt\n",
    "!cat $SPEC_FILES_DIR/combined_inference_config.txt"
   ]
  },
  {
   "cell_type": "code",
   "execution_count": null,
   "id": "929d64d8",
   "metadata": {},
   "outputs": [],
   "source": [
    "# View inference usage\n",
    "!detectnet_v2 inference --help"
   ]
  },
  {
   "cell_type": "code",
   "execution_count": null,
   "id": "2a2ee201",
   "metadata": {
    "scrolled": true,
    "tags": []
   },
   "outputs": [],
   "source": [
    "# Perform inference on the validation set\n",
    "!detectnet_v2 inference -e $SPEC_FILES_DIR/combined_inference_config.txt \\\n",
    "                        -r $PROJECT_DIR/tao_infer_testing \\\n",
    "                        -i $DATA_DIR/training/images \\\n",
    "                        -k tlt_encode"
   ]
  },
  {
   "cell_type": "code",
   "execution_count": null,
   "id": "79f865fd",
   "metadata": {},
   "outputs": [],
   "source": [
    "# Simple grid visualizer\n",
    "%matplotlib inline\n",
    "import matplotlib.pyplot as plt\n",
    "import os\n",
    "from math import ceil\n",
    "import random\n",
    "\n",
    "def visualize_images(image_dir, num_cols=4, num_images=10):\n",
    "    output_path = os.path.join(os.environ['PROJECT_DIR'], image_dir)\n",
    "    num_rows = int(ceil(float(num_images) / float(num_cols)))\n",
    "    f, axarr = plt.subplots(num_rows, num_cols, figsize=[80,30])\n",
    "    f.tight_layout()\n",
    "    a = [os.path.join(output_path, image) for image in os.listdir(output_path)]\n",
    "    for idx, img_path in enumerate(random.sample(a, num_images)):\n",
    "        col_id = idx % num_cols\n",
    "        row_id = idx // num_cols\n",
    "        img = plt.imread(img_path)\n",
    "        axarr[row_id, col_id].imshow(img)"
   ]
  },
  {
   "cell_type": "code",
   "execution_count": null,
   "id": "a9fd5544",
   "metadata": {},
   "outputs": [],
   "source": [
    "# Visualizing the random 12 images\n",
    "OUTPUT_PATH = 'tao_infer_testing/images_annotated' # relative path from $USER_EXPERIMENT_DIR.\n",
    "COLS = 4 # number of columns in the visualizer grid.\n",
    "IMAGES = 12 # number of images to visualize.\n",
    "\n",
    "visualize_images(OUTPUT_PATH, num_cols=COLS, num_images=IMAGES)"
   ]
  },
  {
   "cell_type": "code",
   "execution_count": null,
   "id": "b7a17d20",
   "metadata": {
    "scrolled": true,
    "tags": []
   },
   "outputs": [],
   "source": [
    "# View export usage\n",
    "!detectnet_v2 export --help"
   ]
  },
  {
   "cell_type": "code",
   "execution_count": null,
   "id": "fb19db1a",
   "metadata": {},
   "outputs": [],
   "source": [
    "# Removing a pre-existing copy if there has been any.\n",
    "!rm -rf $MODELS_DIR/resnet18_detector_unpruned\n",
    "!mkdir -p $MODELS_DIR/resnet18_detector_unpruned"
   ]
  },
  {
   "cell_type": "code",
   "execution_count": null,
   "id": "d9923ce8",
   "metadata": {
    "scrolled": true,
    "tags": []
   },
   "outputs": [],
   "source": [
    "# Exporting .hdf5/.tlt model\n",
    "!detectnet_v2 export -m $MODELS_DIR/resnet18_detector/weights/resnet18_detector.hdf5 \\\n",
    "                     -o $MODELS_DIR/resnet18_detector_unpruned/resnet18_detector \\\n",
    "                     -k tlt_encode \\\n",
    "                     -e $SPEC_FILES_DIR/combined_training_config.txt \\\n",
    "                     --gen_ds_config"
   ]
  },
  {
   "cell_type": "code",
   "execution_count": null,
   "id": "d382a6e9",
   "metadata": {},
   "outputs": [],
   "source": [
    "# Read the nvinfer config file using the TrafficCamNet as is\n",
    "!cat $SPEC_FILES_DIR/pgie_config_trafficcamnet.txt"
   ]
  },
  {
   "cell_type": "code",
   "execution_count": null,
   "id": "2b84ef96",
   "metadata": {
    "tags": []
   },
   "outputs": [],
   "source": [
    "# Run the DeepStream Pipeline with the Purpose-built Model as is\n",
    "%run sample_apps/app_03.py data/sample_30.h264 spec_files/pgie_config_trafficcamnet.txt output.mp4\n",
    "\n",
    "# Convert the video to a format that is compatible with Jupyter Lab\n",
    "!ffmpeg -i output.mp4 output_conv.mp4 -y -loglevel quiet"
   ]
  },
  {
   "cell_type": "code",
   "execution_count": null,
   "id": "3fadbc08",
   "metadata": {},
   "outputs": [],
   "source": [
    "# Read the nvinfer config file using the custom model\n",
    "!cat $SPEC_FILES_DIR/pgie_config_resnet18_detector_unpruned.txt"
   ]
  },
  {
   "cell_type": "code",
   "execution_count": null,
   "id": "1d9ca79c",
   "metadata": {},
   "outputs": [],
   "source": [
    "# Run the DeepStream Pipeline with the Custom Model\n",
    "%run sample_apps/app_03.py /dli/task/data/sample_30.h264 spec_files/pgie_config_resnet18_detector_unpruned.txt output_resnet18_detector_unpruned.mp4\n",
    "\n",
    "# Convert the video to a format that is compatible with Jupyter Lab\n",
    "!ffmpeg -i output_resnet18_detector_unpruned.mp4 output_resnet18_detector_unpruned_conv.mp4 -y -loglevel quiet"
   ]
  },
  {
   "cell_type": "code",
   "execution_count": null,
   "id": "39b61f1c",
   "metadata": {},
   "outputs": [],
   "source": [
    "# Compare results\n",
    "from IPython.display import HTML\n",
    "\n",
    "HTML(\"\"\"\n",
    "<div>\n",
    "    <video alt=\"input\" width='49%' autoplay>\n",
    "        <source src=\"output_conv.mp4\" type=\"video/mp4\">\n",
    "    </video>\n",
    "    <video alt=\"output\" width='49%' autoplay>\n",
    "        <source src=\"output_resnet18_detector_unpruned_conv.mp4\" type=\"video/mp4\">\n",
    "    </video>\n",
    "</div>\n",
    "\"\"\")"
   ]
  }
 ],
 "metadata": {
  "kernelspec": {
   "display_name": "Python 3 (ipykernel)",
   "language": "python",
   "name": "python3"
  },
  "language_info": {
   "codemirror_mode": {
    "name": "ipython",
    "version": 3
   },
   "file_extension": ".py",
   "mimetype": "text/x-python",
   "name": "python",
   "nbconvert_exporter": "python",
   "pygments_lexer": "ipython3",
   "version": "3.8.10"
  }
 },
 "nbformat": 4,
 "nbformat_minor": 5
}
