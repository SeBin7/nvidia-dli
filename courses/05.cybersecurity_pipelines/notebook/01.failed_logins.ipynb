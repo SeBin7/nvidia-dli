{
 "cells": [
  {
   "cell_type": "code",
   "execution_count": null,
   "id": "4315ce61",
   "metadata": {},
   "outputs": [],
   "source": [
    "import cudf\n",
    "\n",
    "def analyze_failed_logins(df: cudf.DataFrame, failure_threshold: int = 2) -> cudf.DataFrame:\n",
    "    \"\"\"\n",
    "    Analyzes failed login attempts and flags users exceeding a failure threshold.\n",
    "\n",
    "    Args:\n",
    "        df (cudf.DataFrame): The input user authentication log data.\n",
    "        failure_threshold (int, optional): Minimum number of failed logins to flag a user.\n",
    "\n",
    "    Returns:\n",
    "        cudf.DataFrame: A DataFrame containing flagged users and their failure counts.\n",
    "    \"\"\"\n",
    "\n",
    "    # Filter only failed login attempts\n",
    "    failed_logins_df = df[df[\"status\"] == \"failure\"]\n",
    "\n",
    "    # Count failures per user\n",
    "    failure_counts = (\n",
    "        failed_logins_df.groupby(\"user\").size().reset_index(name=\"failure_count\")\n",
    "    )\n",
    "\n",
    "    # Identify users exceeding the failure threshold\n",
    "    flagged_users_df = failure_counts[failure_counts[\"failure_count\"] >= failure_threshold]\n",
    "\n",
    "    return flagged_users_df"
   ]
  },
  {
   "cell_type": "code",
   "execution_count": null,
   "id": "8316b12e",
   "metadata": {},
   "outputs": [
    {
     "data": {
      "text/html": [
       "<div>\n",
       "<style scoped>\n",
       "    .dataframe tbody tr th:only-of-type {\n",
       "        vertical-align: middle;\n",
       "    }\n",
       "\n",
       "    .dataframe tbody tr th {\n",
       "        vertical-align: top;\n",
       "    }\n",
       "\n",
       "    .dataframe thead th {\n",
       "        text-align: right;\n",
       "    }\n",
       "</style>\n",
       "<table border=\"1\" class=\"dataframe\">\n",
       "  <thead>\n",
       "    <tr style=\"text-align: right;\">\n",
       "      <th></th>\n",
       "      <th>user</th>\n",
       "      <th>failure_count</th>\n",
       "    </tr>\n",
       "  </thead>\n",
       "  <tbody>\n",
       "    <tr>\n",
       "      <th>2</th>\n",
       "      <td>user123</td>\n",
       "      <td>2</td>\n",
       "    </tr>\n",
       "  </tbody>\n",
       "</table>\n",
       "</div>"
      ],
      "text/plain": [
       "      user  failure_count\n",
       "2  user123              2"
      ]
     },
     "metadata": {},
     "output_type": "display_data"
    }
   ],
   "source": [
    "input_file = 'data/simple_user_log.jsonlines'\n",
    "df = cudf.read_json(input_file, lines=True)\n",
    "\n",
    "analyze_failed_logins(df)"
   ]
  },
  {
   "cell_type": "code",
   "execution_count": null,
   "id": "47c09315",
   "metadata": {},
   "outputs": [
    {
     "data": {
      "text/html": [
       "<div>\n",
       "<style scoped>\n",
       "    .dataframe tbody tr th:only-of-type {\n",
       "        vertical-align: middle;\n",
       "    }\n",
       "\n",
       "    .dataframe tbody tr th {\n",
       "        vertical-align: top;\n",
       "    }\n",
       "\n",
       "    .dataframe thead th {\n",
       "        text-align: right;\n",
       "    }\n",
       "</style>\n",
       "<table border=\"1\" class=\"dataframe\">\n",
       "  <thead>\n",
       "    <tr style=\"text-align: right;\">\n",
       "      <th></th>\n",
       "      <th>user</th>\n",
       "      <th>failure_count</th>\n",
       "    </tr>\n",
       "  </thead>\n",
       "  <tbody>\n",
       "    <tr>\n",
       "      <th>0</th>\n",
       "      <td>user864</td>\n",
       "      <td>1</td>\n",
       "    </tr>\n",
       "    <tr>\n",
       "      <th>1</th>\n",
       "      <td>user789</td>\n",
       "      <td>1</td>\n",
       "    </tr>\n",
       "    <tr>\n",
       "      <th>2</th>\n",
       "      <td>user123</td>\n",
       "      <td>2</td>\n",
       "    </tr>\n",
       "    <tr>\n",
       "      <th>3</th>\n",
       "      <td>user456</td>\n",
       "      <td>1</td>\n",
       "    </tr>\n",
       "  </tbody>\n",
       "</table>\n",
       "</div>"
      ],
      "text/plain": [
       "      user  failure_count\n",
       "0  user864              1\n",
       "1  user789              1\n",
       "2  user123              2\n",
       "3  user456              1"
      ]
     },
     "metadata": {},
     "output_type": "display_data"
    }
   ],
   "source": [
    "analyze_failed_logins(df, failure_threshold=1)"
   ]
  },
  {
   "cell_type": "code",
   "execution_count": null,
   "id": "48e9ad14",
   "metadata": {},
   "outputs": [],
   "source": [
    "import typing\n",
    "import logging\n",
    "\n",
    "from IPython.display import Image\n",
    "\n",
    "import cudf\n",
    "\n",
    "from morpheus.config import Config\n",
    "from morpheus.pipeline import LinearPipeline\n",
    "\n",
    "from morpheus.stages.input.file_source_stage import FileSourceStage\n",
    "from morpheus.stages.output.in_memory_sink_stage import InMemorySinkStage\n",
    "from morpheus.stages.preprocess.deserialize_stage import DeserializeStage\n",
    "from morpheus.stages.postprocess.serialize_stage import SerializeStage\n",
    "from add_metadata_and_tasks_stage import AddMetadataAndTaskStage\n",
    "\n",
    "from morpheus.messages import ControlMessage, MessageMeta\n",
    "\n",
    "from morpheus.pipeline.execution_mode_mixins import GpuAndCpuMixin\n",
    "from morpheus.pipeline.pass_thru_type_mixin import PassThruTypeMixin\n",
    "from morpheus.pipeline.single_port_stage import SinglePortStage\n",
    "\n",
    "from morpheus.cli.register_stage import register_stage\n",
    "\n",
    "from morpheus.utils.logger import configure_logging, reset_logging\n",
    "\n",
    "import mrc\n",
    "from mrc.core import operators as ops"
   ]
  },
  {
   "cell_type": "code",
   "execution_count": null,
   "id": "39582a4b",
   "metadata": {},
   "outputs": [],
   "source": [
    "metadata = {\n",
    "    \"needs_failed_login_analysis\": True\n",
    "}"
   ]
  },
  {
   "cell_type": "code",
   "execution_count": null,
   "id": "df74fa59",
   "metadata": {},
   "outputs": [],
   "source": [
    "tasks = {\n",
    "    \"analyze_failed_logins\": {\"failure_threshold\": 1}\n",
    "}"
   ]
  },
  {
   "cell_type": "code",
   "execution_count": null,
   "id": "c7fe4890",
   "metadata": {},
   "outputs": [],
   "source": [
    "config = Config()\n",
    "\n",
    "pipeline = LinearPipeline(config)\n",
    "\n",
    "pipeline.set_source(FileSourceStage(config, filename=input_file, iterative=False))\n",
    "\n",
    "# Use DeserializeStage to convert to ControlMessage messages.\n",
    "pipeline.add_stage(DeserializeStage(config))\n",
    "\n",
    "# Use custom AddMetadataAndTaskStage to add our metadata and tasks to the control messages.\n",
    "pipeline.add_stage(AddMetadataAndTaskStage(config, metadata=metadata, tasks=tasks))\n",
    "\n",
    "in_mem_sink = pipeline.add_stage(InMemorySinkStage(config))\n",
    "\n",
    "pipeline.build()\n",
    "await pipeline.run_async()"
   ]
  },
  {
   "cell_type": "code",
   "execution_count": null,
   "id": "d61e1e07",
   "metadata": {},
   "outputs": [],
   "source": [
    "cm = in_mem_sink.get_messages()[0]"
   ]
  },
  {
   "cell_type": "code",
   "execution_count": null,
   "id": "6341b0fa",
   "metadata": {},
   "outputs": [
    {
     "data": {
      "text/plain": [
       "{'needs_failed_login_analysis': True}"
      ]
     },
     "metadata": {},
     "output_type": "display_data"
    }
   ],
   "source": [
    "cm.get_metadata()"
   ]
  },
  {
   "cell_type": "code",
   "execution_count": null,
   "id": "a51c9e9a",
   "metadata": {},
   "outputs": [
    {
     "data": {
      "text/plain": [
       "{'analyze_failed_logins': [{'failure_threshold': 1}]}"
      ]
     },
     "metadata": {},
     "output_type": "display_data"
    }
   ],
   "source": [
    "cm.get_tasks()"
   ]
  },
  {
   "cell_type": "code",
   "execution_count": null,
   "id": "b95780d7",
   "metadata": {},
   "outputs": [
    {
     "data": {
      "text/html": [
       "<div>\n",
       "<style scoped>\n",
       "    .dataframe tbody tr th:only-of-type {\n",
       "        vertical-align: middle;\n",
       "    }\n",
       "\n",
       "    .dataframe tbody tr th {\n",
       "        vertical-align: top;\n",
       "    }\n",
       "\n",
       "    .dataframe thead th {\n",
       "        text-align: right;\n",
       "    }\n",
       "</style>\n",
       "<table border=\"1\" class=\"dataframe\">\n",
       "  <thead>\n",
       "    <tr style=\"text-align: right;\">\n",
       "      <th></th>\n",
       "      <th>timestamp</th>\n",
       "      <th>user</th>\n",
       "      <th>ip_address</th>\n",
       "      <th>request_time</th>\n",
       "      <th>status</th>\n",
       "      <th>error_message</th>\n",
       "    </tr>\n",
       "  </thead>\n",
       "  <tbody>\n",
       "    <tr>\n",
       "      <th>0</th>\n",
       "      <td>2025-02-01T10:15:30Z</td>\n",
       "      <td>user123</td>\n",
       "      <td>192.168.1.10</td>\n",
       "      <td>200.45</td>\n",
       "      <td>success</td>\n",
       "      <td>&lt;NA&gt;</td>\n",
       "    </tr>\n",
       "    <tr>\n",
       "      <th>1</th>\n",
       "      <td>2025-02-01T10:17:00Z</td>\n",
       "      <td>user123</td>\n",
       "      <td>192.168.1.20</td>\n",
       "      <td>150.55</td>\n",
       "      <td>failure</td>\n",
       "      <td>Invalid credentials</td>\n",
       "    </tr>\n",
       "    <tr>\n",
       "      <th>2</th>\n",
       "      <td>2025-02-01T10:18:10Z</td>\n",
       "      <td>user456</td>\n",
       "      <td>10.0.0.5</td>\n",
       "      <td>180.60</td>\n",
       "      <td>success</td>\n",
       "      <td>&lt;NA&gt;</td>\n",
       "    </tr>\n",
       "    <tr>\n",
       "      <th>3</th>\n",
       "      <td>2025-02-01T10:19:25Z</td>\n",
       "      <td>user789</td>\n",
       "      <td>192.168.1.30</td>\n",
       "      <td>215.25</td>\n",
       "      <td>failure</td>\n",
       "      <td>Timeout</td>\n",
       "    </tr>\n",
       "    <tr>\n",
       "      <th>4</th>\n",
       "      <td>2025-02-01T10:20:00Z</td>\n",
       "      <td>user456</td>\n",
       "      <td>10.0.0.6</td>\n",
       "      <td>120.10</td>\n",
       "      <td>success</td>\n",
       "      <td>&lt;NA&gt;</td>\n",
       "    </tr>\n",
       "    <tr>\n",
       "      <th>5</th>\n",
       "      <td>2025-02-01T10:22:30Z</td>\n",
       "      <td>user123</td>\n",
       "      <td>192.168.1.40</td>\n",
       "      <td>175.35</td>\n",
       "      <td>failure</td>\n",
       "      <td>Access denied</td>\n",
       "    </tr>\n",
       "    <tr>\n",
       "      <th>6</th>\n",
       "      <td>2025-02-01T10:23:45Z</td>\n",
       "      <td>user321</td>\n",
       "      <td>192.168.1.50</td>\n",
       "      <td>205.50</td>\n",
       "      <td>success</td>\n",
       "      <td>&lt;NA&gt;</td>\n",
       "    </tr>\n",
       "    <tr>\n",
       "      <th>7</th>\n",
       "      <td>2025-02-01T10:25:05Z</td>\n",
       "      <td>user864</td>\n",
       "      <td>192.168.1.60</td>\n",
       "      <td>190.15</td>\n",
       "      <td>failure</td>\n",
       "      <td>Invalid session</td>\n",
       "    </tr>\n",
       "    <tr>\n",
       "      <th>8</th>\n",
       "      <td>2025-02-01T10:26:20Z</td>\n",
       "      <td>user123</td>\n",
       "      <td>192.168.1.70</td>\n",
       "      <td>210.80</td>\n",
       "      <td>success</td>\n",
       "      <td>&lt;NA&gt;</td>\n",
       "    </tr>\n",
       "    <tr>\n",
       "      <th>9</th>\n",
       "      <td>2025-02-01T10:27:40Z</td>\n",
       "      <td>user456</td>\n",
       "      <td>10.0.0.7</td>\n",
       "      <td>160.95</td>\n",
       "      <td>failure</td>\n",
       "      <td>Account locked</td>\n",
       "    </tr>\n",
       "  </tbody>\n",
       "</table>\n",
       "</div>"
      ],
      "text/plain": [
       "              timestamp     user    ip_address  request_time   status  \\\n",
       "0  2025-02-01T10:15:30Z  user123  192.168.1.10        200.45  success   \n",
       "1  2025-02-01T10:17:00Z  user123  192.168.1.20        150.55  failure   \n",
       "2  2025-02-01T10:18:10Z  user456      10.0.0.5        180.60  success   \n",
       "3  2025-02-01T10:19:25Z  user789  192.168.1.30        215.25  failure   \n",
       "4  2025-02-01T10:20:00Z  user456      10.0.0.6        120.10  success   \n",
       "5  2025-02-01T10:22:30Z  user123  192.168.1.40        175.35  failure   \n",
       "6  2025-02-01T10:23:45Z  user321  192.168.1.50        205.50  success   \n",
       "7  2025-02-01T10:25:05Z  user864  192.168.1.60        190.15  failure   \n",
       "8  2025-02-01T10:26:20Z  user123  192.168.1.70        210.80  success   \n",
       "9  2025-02-01T10:27:40Z  user456      10.0.0.7        160.95  failure   \n",
       "\n",
       "         error_message  \n",
       "0                 <NA>  \n",
       "1  Invalid credentials  \n",
       "2                 <NA>  \n",
       "3              Timeout  \n",
       "4                 <NA>  \n",
       "5        Access denied  \n",
       "6                 <NA>  \n",
       "7      Invalid session  \n",
       "8                 <NA>  \n",
       "9       Account locked  "
      ]
     },
     "metadata": {},
     "output_type": "display_data"
    }
   ],
   "source": [
    "cm.payload().get_data()"
   ]
  },
  {
   "cell_type": "markdown",
   "id": "b0512411",
   "metadata": {},
   "source": [
    "---"
   ]
  },
  {
   "cell_type": "code",
   "execution_count": null,
   "id": "8700e595",
   "metadata": {},
   "outputs": [],
   "source": [
    "@register_stage(\"analyze-failed-logins\")\n",
    "class AnalyzeFailedLogins(PassThruTypeMixin, GpuAndCpuMixin, SinglePortStage):\n",
    "\n",
    "    @property\n",
    "    def name(self) -> str:\n",
    "        return \"analyze-failed-logins\"\n",
    "\n",
    "    # Note that this custom stage expects message type `ControlMessage`.\n",
    "    def accepted_types(self) -> tuple:\n",
    "        return (ControlMessage, )\n",
    "\n",
    "    def supports_cpp_node(self) -> bool:\n",
    "        return False\n",
    "\n",
    "    def on_data(self, message: ControlMessage) -> ControlMessage:\n",
    "        if message.has_metadata(\"needs_failed_login_analysis\") and message.get_metadata()[\"needs_failed_login_analysis\"]:\n",
    "            if message.has_task(\"analyze_failed_logins\"):\n",
    "                task_args = message.get_tasks()[\"analyze_failed_logins\"][0]\n",
    "                df = message.payload().get_data()\n",
    "                analysis = analyze_failed_logins(df, **task_args)\n",
    "                \n",
    "                mm = MessageMeta(analysis)\n",
    "                cm = ControlMessage()\n",
    "                cm.payload(mm)\n",
    "                \n",
    "                return cm\n",
    "            \n",
    "        return message\n",
    "\n",
    "    def _build_single(self, builder: mrc.Builder, input_node: mrc.SegmentObject) -> mrc.SegmentObject:\n",
    "        node = builder.make_node(self.unique_name, ops.map(self.on_data))\n",
    "        builder.make_edge(input_node, node)\n",
    "\n",
    "        return node"
   ]
  },
  {
   "cell_type": "code",
   "execution_count": null,
   "id": "3db88256",
   "metadata": {},
   "outputs": [],
   "source": [
    "config = Config()\n",
    "\n",
    "pipeline = LinearPipeline(config)\n",
    "\n",
    "pipeline.set_source(FileSourceStage(config, filename=input_file, iterative=False))\n",
    "\n",
    "pipeline.add_stage(DeserializeStage(config))\n",
    "\n",
    "pipeline.add_stage(AddMetadataAndTaskStage(config, metadata=metadata, tasks=tasks))\n",
    "\n",
    "# Use our new custom stage.\n",
    "pipeline.add_stage(AnalyzeFailedLogins(config))\n",
    "\n",
    "in_mem_sink = pipeline.add_stage(InMemorySinkStage(config))\n",
    "\n",
    "pipeline.build()"
   ]
  },
  {
   "cell_type": "code",
   "execution_count": null,
   "id": "d2fb166f",
   "metadata": {},
   "outputs": [
    {
     "name": "stdout",
     "output_type": "stream",
     "text": [
      "====Starting Pipeline====\u001b[0m\n",
      "====Pipeline Started====\u001b[0m\n",
      "====Building Segment: linear_segment_0====\u001b[0m\n",
      "Added source: <from-file-4; FileSourceStage(filename=data/simple_user_log.jsonlines, iterative=False, file_type=FileTypes.Auto, repeat=1, filter_null=True, filter_null_columns=None, parser_kwargs=None)>\n",
      "  └─> morpheus.MessageMeta\u001b[0m\n",
      "Added stage: <deserialize-5; DeserializeStage(ensure_sliceable_index=True, task_type=None, task_payload=None)>\n",
      "  └─ morpheus.MessageMeta -> morpheus.ControlMessage\u001b[0m\n",
      "Added stage: <add-metadata-and-task-6; AddMetadataAndTaskStage(metadata={'needs_failed_login_analysis': True}, tasks={'analyze_failed_logins': {'failure_threshold': 1}})>\n",
      "  └─ morpheus.ControlMessage -> morpheus.ControlMessage\u001b[0m\n",
      "Added stage: <analyze-failed-logins-7; AnalyzeFailedLogins()>\n",
      "  └─ morpheus.ControlMessage -> morpheus.ControlMessage\u001b[0m\n",
      "Added stage: <to-mem-8; InMemorySinkStage()>\n",
      "  └─ morpheus.ControlMessage -> morpheus.ControlMessage\u001b[0m\n",
      "====Building Segment Complete!====\u001b[0m\n",
      "====Pipeline Complete====\u001b[0m\n",
      "====Pipeline Pre-build====\u001b[0m\n",
      "====Pre-Building Segment: linear_segment_0====\u001b[0m\n",
      "====Pre-Building Segment Complete!====\u001b[0m\n",
      "====Pipeline Pre-build Complete!====\u001b[0m\n",
      "====Registering Pipeline====\u001b[0m\n",
      "====Building Pipeline====\u001b[0m\n",
      "====Building Pipeline Complete!====\u001b[0m\n",
      "====Registering Pipeline Complete!====\u001b[0m\n",
      "====Starting Pipeline====\u001b[0m\n",
      "====Building Segment: linear_segment_0====\u001b[0m\n",
      "Added source: <from-file-9; FileSourceStage(filename=data/simple_user_log.jsonlines, iterative=False, file_type=FileTypes.Auto, repeat=1, filter_null=True, filter_null_columns=None, parser_kwargs=None)>\n",
      "  └─> morpheus.MessageMeta\u001b[0m\n",
      "Added stage: <deserialize-10; DeserializeStage(ensure_sliceable_index=True, task_type=None, task_payload=None)>\n",
      "  └─ morpheus.MessageMeta -> morpheus.ControlMessage\u001b[0m\n",
      "Added stage: <add-metadata-and-task-11; AddMetadataAndTaskStage(metadata=None, tasks=None)>\n",
      "  └─ morpheus.ControlMessage -> morpheus.ControlMessage\u001b[0m\n",
      "Added stage: <analyze-failed-logins-12; AnalyzeFailedLogins()>\n",
      "  └─ morpheus.ControlMessage -> morpheus.ControlMessage\u001b[0m\n",
      "Added stage: <to-mem-13; InMemorySinkStage()>\n",
      "  └─ morpheus.ControlMessage -> morpheus.ControlMessage\u001b[0m\n",
      "====Pipeline Started====\u001b[0m\n",
      "====Building Segment Complete!====\u001b[0m\n",
      "====Pipeline Complete====\u001b[0m\n"
     ]
    }
   ],
   "source": [
    "reset_logging()\n",
    "configure_logging(log_level=logging.DEBUG)"
   ]
  },
  {
   "cell_type": "code",
   "execution_count": null,
   "id": "17386ad8",
   "metadata": {},
   "outputs": [],
   "source": [
    "await pipeline.run_async()"
   ]
  },
  {
   "cell_type": "code",
   "execution_count": null,
   "id": "d392e218",
   "metadata": {},
   "outputs": [],
   "source": [
    "cm = in_mem_sink.get_messages()[0]"
   ]
  },
  {
   "cell_type": "code",
   "execution_count": null,
   "id": "9f167269",
   "metadata": {},
   "outputs": [
    {
     "data": {
      "text/plain": [
       "{}"
      ]
     },
     "metadata": {},
     "output_type": "display_data"
    }
   ],
   "source": [
    "cm.get_metadata()"
   ]
  },
  {
   "cell_type": "code",
   "execution_count": null,
   "id": "07ba87f3",
   "metadata": {},
   "outputs": [
    {
     "data": {
      "text/plain": [
       "{}"
      ]
     },
     "metadata": {},
     "output_type": "display_data"
    }
   ],
   "source": [
    "cm.get_tasks()"
   ]
  },
  {
   "cell_type": "code",
   "execution_count": null,
   "id": "628a5cd0",
   "metadata": {},
   "outputs": [
    {
     "data": {
      "text/html": [
       "<div>\n",
       "<style scoped>\n",
       "    .dataframe tbody tr th:only-of-type {\n",
       "        vertical-align: middle;\n",
       "    }\n",
       "\n",
       "    .dataframe tbody tr th {\n",
       "        vertical-align: top;\n",
       "    }\n",
       "\n",
       "    .dataframe thead th {\n",
       "        text-align: right;\n",
       "    }\n",
       "</style>\n",
       "<table border=\"1\" class=\"dataframe\">\n",
       "  <thead>\n",
       "    <tr style=\"text-align: right;\">\n",
       "      <th></th>\n",
       "      <th>user</th>\n",
       "      <th>failure_count</th>\n",
       "    </tr>\n",
       "  </thead>\n",
       "  <tbody>\n",
       "    <tr>\n",
       "      <th>0</th>\n",
       "      <td>user864</td>\n",
       "      <td>1</td>\n",
       "    </tr>\n",
       "    <tr>\n",
       "      <th>1</th>\n",
       "      <td>user789</td>\n",
       "      <td>1</td>\n",
       "    </tr>\n",
       "    <tr>\n",
       "      <th>2</th>\n",
       "      <td>user123</td>\n",
       "      <td>2</td>\n",
       "    </tr>\n",
       "    <tr>\n",
       "      <th>3</th>\n",
       "      <td>user456</td>\n",
       "      <td>1</td>\n",
       "    </tr>\n",
       "  </tbody>\n",
       "</table>\n",
       "</div>"
      ],
      "text/plain": [
       "      user  failure_count\n",
       "0  user864              1\n",
       "1  user789              1\n",
       "2  user123              2\n",
       "3  user456              1"
      ]
     },
     "metadata": {},
     "output_type": "display_data"
    }
   ],
   "source": [
    "cm.payload().get_data()"
   ]
  },
  {
   "cell_type": "code",
   "execution_count": null,
   "id": "b89f8db6",
   "metadata": {},
   "outputs": [],
   "source": [
    "config = Config()\n",
    "\n",
    "pipeline = LinearPipeline(config)\n",
    "\n",
    "pipeline.set_source(FileSourceStage(config, filename=input_file, iterative=False))\n",
    "\n",
    "pipeline.add_stage(DeserializeStage(config))\n",
    "\n",
    "# NOTE: For this run we are not passing in any metadata (or tasks).\n",
    "pipeline.add_stage(AddMetadataAndTaskStage(config))\n",
    "\n",
    "# With no metadata provided, we would expect this stage to act as a passthrough.\n",
    "pipeline.add_stage(AnalyzeFailedLogins(config))\n",
    "\n",
    "in_mem_sink = pipeline.add_stage(InMemorySinkStage(config))\n",
    "\n",
    "pipeline.build()"
   ]
  },
  {
   "cell_type": "code",
   "execution_count": null,
   "id": "09f3fad2",
   "metadata": {},
   "outputs": [],
   "source": [
    "await pipeline.run_async()"
   ]
  },
  {
   "cell_type": "code",
   "execution_count": null,
   "id": "b0f81ba7",
   "metadata": {},
   "outputs": [],
   "source": [
    "cm = in_mem_sink.get_messages()[0]"
   ]
  },
  {
   "cell_type": "code",
   "execution_count": null,
   "id": "8113e433",
   "metadata": {},
   "outputs": [
    {
     "data": {
      "text/plain": [
       "{}"
      ]
     },
     "metadata": {},
     "output_type": "display_data"
    }
   ],
   "source": [
    "cm.get_metadata()"
   ]
  },
  {
   "cell_type": "code",
   "execution_count": null,
   "id": "2c52a26d",
   "metadata": {},
   "outputs": [
    {
     "data": {
      "text/plain": [
       "{}"
      ]
     },
     "metadata": {},
     "output_type": "display_data"
    }
   ],
   "source": [
    "cm.get_tasks()"
   ]
  },
  {
   "cell_type": "code",
   "execution_count": null,
   "id": "32e15aae",
   "metadata": {},
   "outputs": [
    {
     "data": {
      "text/html": [
       "<div>\n",
       "<style scoped>\n",
       "    .dataframe tbody tr th:only-of-type {\n",
       "        vertical-align: middle;\n",
       "    }\n",
       "\n",
       "    .dataframe tbody tr th {\n",
       "        vertical-align: top;\n",
       "    }\n",
       "\n",
       "    .dataframe thead th {\n",
       "        text-align: right;\n",
       "    }\n",
       "</style>\n",
       "<table border=\"1\" class=\"dataframe\">\n",
       "  <thead>\n",
       "    <tr style=\"text-align: right;\">\n",
       "      <th></th>\n",
       "      <th>timestamp</th>\n",
       "      <th>user</th>\n",
       "      <th>ip_address</th>\n",
       "      <th>request_time</th>\n",
       "      <th>status</th>\n",
       "      <th>error_message</th>\n",
       "    </tr>\n",
       "  </thead>\n",
       "  <tbody>\n",
       "    <tr>\n",
       "      <th>0</th>\n",
       "      <td>2025-02-01T10:15:30Z</td>\n",
       "      <td>user123</td>\n",
       "      <td>192.168.1.10</td>\n",
       "      <td>200.45</td>\n",
       "      <td>success</td>\n",
       "      <td>&lt;NA&gt;</td>\n",
       "    </tr>\n",
       "    <tr>\n",
       "      <th>1</th>\n",
       "      <td>2025-02-01T10:17:00Z</td>\n",
       "      <td>user123</td>\n",
       "      <td>192.168.1.20</td>\n",
       "      <td>150.55</td>\n",
       "      <td>failure</td>\n",
       "      <td>Invalid credentials</td>\n",
       "    </tr>\n",
       "    <tr>\n",
       "      <th>2</th>\n",
       "      <td>2025-02-01T10:18:10Z</td>\n",
       "      <td>user456</td>\n",
       "      <td>10.0.0.5</td>\n",
       "      <td>180.60</td>\n",
       "      <td>success</td>\n",
       "      <td>&lt;NA&gt;</td>\n",
       "    </tr>\n",
       "    <tr>\n",
       "      <th>3</th>\n",
       "      <td>2025-02-01T10:19:25Z</td>\n",
       "      <td>user789</td>\n",
       "      <td>192.168.1.30</td>\n",
       "      <td>215.25</td>\n",
       "      <td>failure</td>\n",
       "      <td>Timeout</td>\n",
       "    </tr>\n",
       "    <tr>\n",
       "      <th>4</th>\n",
       "      <td>2025-02-01T10:20:00Z</td>\n",
       "      <td>user456</td>\n",
       "      <td>10.0.0.6</td>\n",
       "      <td>120.10</td>\n",
       "      <td>success</td>\n",
       "      <td>&lt;NA&gt;</td>\n",
       "    </tr>\n",
       "    <tr>\n",
       "      <th>5</th>\n",
       "      <td>2025-02-01T10:22:30Z</td>\n",
       "      <td>user123</td>\n",
       "      <td>192.168.1.40</td>\n",
       "      <td>175.35</td>\n",
       "      <td>failure</td>\n",
       "      <td>Access denied</td>\n",
       "    </tr>\n",
       "    <tr>\n",
       "      <th>6</th>\n",
       "      <td>2025-02-01T10:23:45Z</td>\n",
       "      <td>user321</td>\n",
       "      <td>192.168.1.50</td>\n",
       "      <td>205.50</td>\n",
       "      <td>success</td>\n",
       "      <td>&lt;NA&gt;</td>\n",
       "    </tr>\n",
       "    <tr>\n",
       "      <th>7</th>\n",
       "      <td>2025-02-01T10:25:05Z</td>\n",
       "      <td>user864</td>\n",
       "      <td>192.168.1.60</td>\n",
       "      <td>190.15</td>\n",
       "      <td>failure</td>\n",
       "      <td>Invalid session</td>\n",
       "    </tr>\n",
       "    <tr>\n",
       "      <th>8</th>\n",
       "      <td>2025-02-01T10:26:20Z</td>\n",
       "      <td>user123</td>\n",
       "      <td>192.168.1.70</td>\n",
       "      <td>210.80</td>\n",
       "      <td>success</td>\n",
       "      <td>&lt;NA&gt;</td>\n",
       "    </tr>\n",
       "    <tr>\n",
       "      <th>9</th>\n",
       "      <td>2025-02-01T10:27:40Z</td>\n",
       "      <td>user456</td>\n",
       "      <td>10.0.0.7</td>\n",
       "      <td>160.95</td>\n",
       "      <td>failure</td>\n",
       "      <td>Account locked</td>\n",
       "    </tr>\n",
       "  </tbody>\n",
       "</table>\n",
       "</div>"
      ],
      "text/plain": [
       "              timestamp     user    ip_address  request_time   status  \\\n",
       "0  2025-02-01T10:15:30Z  user123  192.168.1.10        200.45  success   \n",
       "1  2025-02-01T10:17:00Z  user123  192.168.1.20        150.55  failure   \n",
       "2  2025-02-01T10:18:10Z  user456      10.0.0.5        180.60  success   \n",
       "3  2025-02-01T10:19:25Z  user789  192.168.1.30        215.25  failure   \n",
       "4  2025-02-01T10:20:00Z  user456      10.0.0.6        120.10  success   \n",
       "5  2025-02-01T10:22:30Z  user123  192.168.1.40        175.35  failure   \n",
       "6  2025-02-01T10:23:45Z  user321  192.168.1.50        205.50  success   \n",
       "7  2025-02-01T10:25:05Z  user864  192.168.1.60        190.15  failure   \n",
       "8  2025-02-01T10:26:20Z  user123  192.168.1.70        210.80  success   \n",
       "9  2025-02-01T10:27:40Z  user456      10.0.0.7        160.95  failure   \n",
       "\n",
       "         error_message  \n",
       "0                 <NA>  \n",
       "1  Invalid credentials  \n",
       "2                 <NA>  \n",
       "3              Timeout  \n",
       "4                 <NA>  \n",
       "5        Access denied  \n",
       "6                 <NA>  \n",
       "7      Invalid session  \n",
       "8                 <NA>  \n",
       "9       Account locked  "
      ]
     },
     "metadata": {},
     "output_type": "display_data"
    }
   ],
   "source": [
    "cm.payload().get_data()"
   ]
  }
 ],
 "metadata": {
  "language_info": {
   "name": "python"
  }
 },
 "nbformat": 4,
 "nbformat_minor": 5
}
